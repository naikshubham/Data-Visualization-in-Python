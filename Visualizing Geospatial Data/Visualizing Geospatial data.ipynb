{
 "cells": [
  {
   "cell_type": "code",
   "execution_count": 212,
   "metadata": {},
   "outputs": [],
   "source": [
    "import pandas as pd\n",
    "import ast\n",
    "import matplotlib.pyplot as plt\n",
    "import folium"
   ]
  },
  {
   "cell_type": "code",
   "execution_count": 19,
   "metadata": {},
   "outputs": [
    {
     "data": {
      "text/html": [
       "<div>\n",
       "<style scoped>\n",
       "    .dataframe tbody tr th:only-of-type {\n",
       "        vertical-align: middle;\n",
       "    }\n",
       "\n",
       "    .dataframe tbody tr th {\n",
       "        vertical-align: top;\n",
       "    }\n",
       "\n",
       "    .dataframe thead th {\n",
       "        text-align: right;\n",
       "    }\n",
       "</style>\n",
       "<table border=\"1\" class=\"dataframe\">\n",
       "  <thead>\n",
       "    <tr style=\"text-align: right;\">\n",
       "      <th></th>\n",
       "      <th>School ID</th>\n",
       "      <th>School Name</th>\n",
       "      <th>Street Address</th>\n",
       "      <th>City</th>\n",
       "      <th>State</th>\n",
       "      <th>ZIP Code</th>\n",
       "      <th>Phone Number</th>\n",
       "      <th>School State ID</th>\n",
       "      <th>School Level</th>\n",
       "      <th>Lowest Grade</th>\n",
       "      <th>Highest Grade</th>\n",
       "      <th>Latitude</th>\n",
       "      <th>Longitude</th>\n",
       "      <th>School Website</th>\n",
       "      <th>Cluster</th>\n",
       "      <th>Mapped Location</th>\n",
       "    </tr>\n",
       "  </thead>\n",
       "  <tbody>\n",
       "    <tr>\n",
       "      <th>0</th>\n",
       "      <td>496</td>\n",
       "      <td>A. Z. Kelley Elementary</td>\n",
       "      <td>5834 Pettus Road</td>\n",
       "      <td>Antioch</td>\n",
       "      <td>TN</td>\n",
       "      <td>37013</td>\n",
       "      <td>(615)941-7535</td>\n",
       "      <td>1</td>\n",
       "      <td>Elementary School</td>\n",
       "      <td>Grade P3</td>\n",
       "      <td>Grade 4</td>\n",
       "      <td>36.021817</td>\n",
       "      <td>-86.658848</td>\n",
       "      <td>http://schools.mnps.org/az-kelley-elementary-s...</td>\n",
       "      <td>Cane Ridge</td>\n",
       "      <td>(36.02181712, -86.65884778)</td>\n",
       "    </tr>\n",
       "    <tr>\n",
       "      <th>1</th>\n",
       "      <td>375</td>\n",
       "      <td>Alex Green Elementary</td>\n",
       "      <td>3921 Lloyd Road</td>\n",
       "      <td>Whites Creek</td>\n",
       "      <td>TN</td>\n",
       "      <td>37189</td>\n",
       "      <td>(615)876-5105</td>\n",
       "      <td>5</td>\n",
       "      <td>Elementary School</td>\n",
       "      <td>Grade P4</td>\n",
       "      <td>Grade 4</td>\n",
       "      <td>36.252961</td>\n",
       "      <td>-86.832229</td>\n",
       "      <td>http://schools.mnps.org/alex-green-elementary-...</td>\n",
       "      <td>Whites Creek</td>\n",
       "      <td>(36.2529607, -86.8322292)</td>\n",
       "    </tr>\n",
       "    <tr>\n",
       "      <th>2</th>\n",
       "      <td>105</td>\n",
       "      <td>Amqui Elementary</td>\n",
       "      <td>319 Anderson Lane</td>\n",
       "      <td>Madison</td>\n",
       "      <td>TN</td>\n",
       "      <td>37115</td>\n",
       "      <td>(615)612-3678</td>\n",
       "      <td>10</td>\n",
       "      <td>Elementary School</td>\n",
       "      <td>Grade P3</td>\n",
       "      <td>Grade 4</td>\n",
       "      <td>36.273766</td>\n",
       "      <td>-86.703832</td>\n",
       "      <td>http://schools.mnps.org/amqui-elementary-school</td>\n",
       "      <td>Hunters Lane</td>\n",
       "      <td>(36.27376585, -86.70383153)</td>\n",
       "    </tr>\n",
       "    <tr>\n",
       "      <th>3</th>\n",
       "      <td>460</td>\n",
       "      <td>Andrew Jackson Elementary</td>\n",
       "      <td>110 Shute Ln</td>\n",
       "      <td>Old Hickory</td>\n",
       "      <td>TN</td>\n",
       "      <td>37138</td>\n",
       "      <td>(615)847-7317</td>\n",
       "      <td>15</td>\n",
       "      <td>Elementary School</td>\n",
       "      <td>Grade P4</td>\n",
       "      <td>Grade 4</td>\n",
       "      <td>36.231585</td>\n",
       "      <td>-86.623775</td>\n",
       "      <td>http://schools.mnps.org/andrew-jackson-element...</td>\n",
       "      <td>McGavock</td>\n",
       "      <td>(36.23158465, -86.62377469)</td>\n",
       "    </tr>\n",
       "    <tr>\n",
       "      <th>4</th>\n",
       "      <td>110</td>\n",
       "      <td>Antioch High School</td>\n",
       "      <td>1900 Hobson Pike</td>\n",
       "      <td>Antioch</td>\n",
       "      <td>TN</td>\n",
       "      <td>37013</td>\n",
       "      <td>(615)641-5400</td>\n",
       "      <td>20</td>\n",
       "      <td>High School</td>\n",
       "      <td>Grade 9</td>\n",
       "      <td>Grade 12</td>\n",
       "      <td>36.046675</td>\n",
       "      <td>-86.599418</td>\n",
       "      <td>http://schools.mnps.org/antioch-high-school</td>\n",
       "      <td>Antioch</td>\n",
       "      <td>(36.04667464, -86.59941833)</td>\n",
       "    </tr>\n",
       "  </tbody>\n",
       "</table>\n",
       "</div>"
      ],
      "text/plain": [
       "   School ID                School Name     Street Address          City  \\\n",
       "0        496    A. Z. Kelley Elementary   5834 Pettus Road       Antioch   \n",
       "1        375      Alex Green Elementary    3921 Lloyd Road  Whites Creek   \n",
       "2        105           Amqui Elementary  319 Anderson Lane       Madison   \n",
       "3        460  Andrew Jackson Elementary       110 Shute Ln   Old Hickory   \n",
       "4        110        Antioch High School   1900 Hobson Pike       Antioch   \n",
       "\n",
       "  State  ZIP Code   Phone Number  School State ID       School Level  \\\n",
       "0    TN     37013  (615)941-7535                1  Elementary School   \n",
       "1    TN     37189  (615)876-5105                5  Elementary School   \n",
       "2    TN     37115  (615)612-3678               10  Elementary School   \n",
       "3    TN     37138  (615)847-7317               15  Elementary School   \n",
       "4    TN     37013  (615)641-5400               20        High School   \n",
       "\n",
       "  Lowest Grade Highest Grade   Latitude  Longitude  \\\n",
       "0     Grade P3       Grade 4  36.021817 -86.658848   \n",
       "1     Grade P4       Grade 4  36.252961 -86.832229   \n",
       "2     Grade P3       Grade 4  36.273766 -86.703832   \n",
       "3     Grade P4       Grade 4  36.231585 -86.623775   \n",
       "4      Grade 9      Grade 12  36.046675 -86.599418   \n",
       "\n",
       "                                      School Website       Cluster  \\\n",
       "0  http://schools.mnps.org/az-kelley-elementary-s...    Cane Ridge   \n",
       "1  http://schools.mnps.org/alex-green-elementary-...  Whites Creek   \n",
       "2    http://schools.mnps.org/amqui-elementary-school  Hunters Lane   \n",
       "3  http://schools.mnps.org/andrew-jackson-element...      McGavock   \n",
       "4        http://schools.mnps.org/antioch-high-school       Antioch   \n",
       "\n",
       "               Mapped Location  \n",
       "0  (36.02181712, -86.65884778)  \n",
       "1    (36.2529607, -86.8322292)  \n",
       "2  (36.27376585, -86.70383153)  \n",
       "3  (36.23158465, -86.62377469)  \n",
       "4  (36.04667464, -86.59941833)  "
      ]
     },
     "execution_count": 19,
     "metadata": {},
     "output_type": "execute_result"
    }
   ],
   "source": [
    "data = pd.read_csv('data/schools.csv')\n",
    "data.head()"
   ]
  },
  {
   "cell_type": "code",
   "execution_count": 20,
   "metadata": {},
   "outputs": [
    {
     "data": {
      "text/html": [
       "<div>\n",
       "<style scoped>\n",
       "    .dataframe tbody tr th:only-of-type {\n",
       "        vertical-align: middle;\n",
       "    }\n",
       "\n",
       "    .dataframe tbody tr th {\n",
       "        vertical-align: top;\n",
       "    }\n",
       "\n",
       "    .dataframe thead th {\n",
       "        text-align: right;\n",
       "    }\n",
       "</style>\n",
       "<table border=\"1\" class=\"dataframe\">\n",
       "  <thead>\n",
       "    <tr style=\"text-align: right;\">\n",
       "      <th></th>\n",
       "      <th>School ID</th>\n",
       "      <th>School Name</th>\n",
       "      <th>Mapped Location</th>\n",
       "    </tr>\n",
       "  </thead>\n",
       "  <tbody>\n",
       "    <tr>\n",
       "      <th>0</th>\n",
       "      <td>496</td>\n",
       "      <td>A. Z. Kelley Elementary</td>\n",
       "      <td>(36.02181712, -86.65884778)</td>\n",
       "    </tr>\n",
       "    <tr>\n",
       "      <th>1</th>\n",
       "      <td>375</td>\n",
       "      <td>Alex Green Elementary</td>\n",
       "      <td>(36.2529607, -86.8322292)</td>\n",
       "    </tr>\n",
       "    <tr>\n",
       "      <th>2</th>\n",
       "      <td>105</td>\n",
       "      <td>Amqui Elementary</td>\n",
       "      <td>(36.27376585, -86.70383153)</td>\n",
       "    </tr>\n",
       "    <tr>\n",
       "      <th>3</th>\n",
       "      <td>460</td>\n",
       "      <td>Andrew Jackson Elementary</td>\n",
       "      <td>(36.23158465, -86.62377469)</td>\n",
       "    </tr>\n",
       "    <tr>\n",
       "      <th>4</th>\n",
       "      <td>110</td>\n",
       "      <td>Antioch High School</td>\n",
       "      <td>(36.04667464, -86.59941833)</td>\n",
       "    </tr>\n",
       "  </tbody>\n",
       "</table>\n",
       "</div>"
      ],
      "text/plain": [
       "   School ID                School Name              Mapped Location\n",
       "0        496    A. Z. Kelley Elementary  (36.02181712, -86.65884778)\n",
       "1        375      Alex Green Elementary    (36.2529607, -86.8322292)\n",
       "2        105           Amqui Elementary  (36.27376585, -86.70383153)\n",
       "3        460  Andrew Jackson Elementary  (36.23158465, -86.62377469)\n",
       "4        110        Antioch High School  (36.04667464, -86.59941833)"
      ]
     },
     "execution_count": 20,
     "metadata": {},
     "output_type": "execute_result"
    }
   ],
   "source": [
    "data = data[['School ID', 'School Name', 'Mapped Location']]\n",
    "data.head()"
   ]
  },
  {
   "cell_type": "code",
   "execution_count": 21,
   "metadata": {},
   "outputs": [
    {
     "data": {
      "text/html": [
       "<div>\n",
       "<style scoped>\n",
       "    .dataframe tbody tr th:only-of-type {\n",
       "        vertical-align: middle;\n",
       "    }\n",
       "\n",
       "    .dataframe tbody tr th {\n",
       "        vertical-align: top;\n",
       "    }\n",
       "\n",
       "    .dataframe thead th {\n",
       "        text-align: right;\n",
       "    }\n",
       "</style>\n",
       "<table border=\"1\" class=\"dataframe\">\n",
       "  <thead>\n",
       "    <tr style=\"text-align: right;\">\n",
       "      <th></th>\n",
       "      <th>StopID</th>\n",
       "      <th>StopName</th>\n",
       "      <th>Location</th>\n",
       "    </tr>\n",
       "  </thead>\n",
       "  <tbody>\n",
       "    <tr>\n",
       "      <th>0</th>\n",
       "      <td>496</td>\n",
       "      <td>A. Z. Kelley Elementary</td>\n",
       "      <td>(36.02181712, -86.65884778)</td>\n",
       "    </tr>\n",
       "    <tr>\n",
       "      <th>1</th>\n",
       "      <td>375</td>\n",
       "      <td>Alex Green Elementary</td>\n",
       "      <td>(36.2529607, -86.8322292)</td>\n",
       "    </tr>\n",
       "    <tr>\n",
       "      <th>2</th>\n",
       "      <td>105</td>\n",
       "      <td>Amqui Elementary</td>\n",
       "      <td>(36.27376585, -86.70383153)</td>\n",
       "    </tr>\n",
       "    <tr>\n",
       "      <th>3</th>\n",
       "      <td>460</td>\n",
       "      <td>Andrew Jackson Elementary</td>\n",
       "      <td>(36.23158465, -86.62377469)</td>\n",
       "    </tr>\n",
       "    <tr>\n",
       "      <th>4</th>\n",
       "      <td>110</td>\n",
       "      <td>Antioch High School</td>\n",
       "      <td>(36.04667464, -86.59941833)</td>\n",
       "    </tr>\n",
       "  </tbody>\n",
       "</table>\n",
       "</div>"
      ],
      "text/plain": [
       "   StopID                   StopName                     Location\n",
       "0     496    A. Z. Kelley Elementary  (36.02181712, -86.65884778)\n",
       "1     375      Alex Green Elementary    (36.2529607, -86.8322292)\n",
       "2     105           Amqui Elementary  (36.27376585, -86.70383153)\n",
       "3     460  Andrew Jackson Elementary  (36.23158465, -86.62377469)\n",
       "4     110        Antioch High School  (36.04667464, -86.59941833)"
      ]
     },
     "execution_count": 21,
     "metadata": {},
     "output_type": "execute_result"
    }
   ],
   "source": [
    "df = data.rename(columns={'School ID':'StopID', 'School Name':'StopName', 'Mapped Location':'Location'})\n",
    "df.head()"
   ]
  },
  {
   "cell_type": "markdown",
   "metadata": {},
   "source": [
    "### Extracting longitude and latitude"
   ]
  },
  {
   "cell_type": "code",
   "execution_count": 27,
   "metadata": {},
   "outputs": [
    {
     "name": "stdout",
     "output_type": "stream",
     "text": [
      "<class 'tuple'> (36.02181712, -86.65884778)\n",
      "<class 'tuple'> (36.2529607, -86.8322292)\n",
      "<class 'tuple'> (36.27376585, -86.70383153)\n",
      "<class 'tuple'> (36.23158465, -86.62377469)\n",
      "<class 'tuple'> (36.04667464, -86.59941833)\n",
      "<class 'tuple'> (36.05537897, -86.67182989)\n",
      "<class 'tuple'> (36.06687798, -86.66406971)\n",
      "<class 'tuple'> (36.07074879, -86.93482036)\n",
      "<class 'tuple'> (36.26968766, -86.76230026)\n"
     ]
    }
   ],
   "source": [
    "c=0\n",
    "for loc in df.Location:\n",
    "    loc = ast.literal_eval(str(loc))\n",
    "    c+=1\n",
    "    if c==10:\n",
    "        break\n",
    "    print(type(loc), loc)"
   ]
  },
  {
   "cell_type": "code",
   "execution_count": 25,
   "metadata": {},
   "outputs": [
    {
     "data": {
      "text/html": [
       "<div>\n",
       "<style scoped>\n",
       "    .dataframe tbody tr th:only-of-type {\n",
       "        vertical-align: middle;\n",
       "    }\n",
       "\n",
       "    .dataframe tbody tr th {\n",
       "        vertical-align: top;\n",
       "    }\n",
       "\n",
       "    .dataframe thead th {\n",
       "        text-align: right;\n",
       "    }\n",
       "</style>\n",
       "<table border=\"1\" class=\"dataframe\">\n",
       "  <thead>\n",
       "    <tr style=\"text-align: right;\">\n",
       "      <th></th>\n",
       "      <th>StopID</th>\n",
       "      <th>StopName</th>\n",
       "      <th>Location</th>\n",
       "      <th>lat</th>\n",
       "      <th>lng</th>\n",
       "    </tr>\n",
       "  </thead>\n",
       "  <tbody>\n",
       "    <tr>\n",
       "      <th>0</th>\n",
       "      <td>496</td>\n",
       "      <td>A. Z. Kelley Elementary</td>\n",
       "      <td>(36.02181712, -86.65884778)</td>\n",
       "      <td>36.021817</td>\n",
       "      <td>-86.658848</td>\n",
       "    </tr>\n",
       "    <tr>\n",
       "      <th>1</th>\n",
       "      <td>375</td>\n",
       "      <td>Alex Green Elementary</td>\n",
       "      <td>(36.2529607, -86.8322292)</td>\n",
       "      <td>36.252961</td>\n",
       "      <td>-86.832229</td>\n",
       "    </tr>\n",
       "    <tr>\n",
       "      <th>2</th>\n",
       "      <td>105</td>\n",
       "      <td>Amqui Elementary</td>\n",
       "      <td>(36.27376585, -86.70383153)</td>\n",
       "      <td>36.273766</td>\n",
       "      <td>-86.703832</td>\n",
       "    </tr>\n",
       "    <tr>\n",
       "      <th>3</th>\n",
       "      <td>460</td>\n",
       "      <td>Andrew Jackson Elementary</td>\n",
       "      <td>(36.23158465, -86.62377469)</td>\n",
       "      <td>36.231585</td>\n",
       "      <td>-86.623775</td>\n",
       "    </tr>\n",
       "    <tr>\n",
       "      <th>4</th>\n",
       "      <td>110</td>\n",
       "      <td>Antioch High School</td>\n",
       "      <td>(36.04667464, -86.59941833)</td>\n",
       "      <td>36.046675</td>\n",
       "      <td>-86.599418</td>\n",
       "    </tr>\n",
       "  </tbody>\n",
       "</table>\n",
       "</div>"
      ],
      "text/plain": [
       "   StopID                   StopName                     Location        lat  \\\n",
       "0     496    A. Z. Kelley Elementary  (36.02181712, -86.65884778)  36.021817   \n",
       "1     375      Alex Green Elementary    (36.2529607, -86.8322292)  36.252961   \n",
       "2     105           Amqui Elementary  (36.27376585, -86.70383153)  36.273766   \n",
       "3     460  Andrew Jackson Elementary  (36.23158465, -86.62377469)  36.231585   \n",
       "4     110        Antioch High School  (36.04667464, -86.59941833)  36.046675   \n",
       "\n",
       "         lng  \n",
       "0 -86.658848  \n",
       "1 -86.832229  \n",
       "2 -86.703832  \n",
       "3 -86.623775  \n",
       "4 -86.599418  "
      ]
     },
     "execution_count": 25,
     "metadata": {},
     "output_type": "execute_result"
    }
   ],
   "source": [
    "# extract latitude to a new column: lat\n",
    "df['lat'] = [ast.literal_eval(str(loc))[0] for loc in df.Location]\n",
    "\n",
    "# extract longitude to a new column: lng\n",
    "df['lng'] = [ast.literal_eval(str(loc))[1] for loc in df.Location]\n",
    "\n",
    "# print the first few rows of df again\n",
    "df.head()"
   ]
  },
  {
   "cell_type": "markdown",
   "metadata": {},
   "source": [
    "### Plotting chicken locations\n",
    "- create a scatterplot that shows where the Nashville chickens are!"
   ]
  },
  {
   "cell_type": "code",
   "execution_count": 29,
   "metadata": {},
   "outputs": [
    {
     "data": {
      "text/html": [
       "<div>\n",
       "<style scoped>\n",
       "    .dataframe tbody tr th:only-of-type {\n",
       "        vertical-align: middle;\n",
       "    }\n",
       "\n",
       "    .dataframe tbody tr th {\n",
       "        vertical-align: top;\n",
       "    }\n",
       "\n",
       "    .dataframe thead th {\n",
       "        text-align: right;\n",
       "    }\n",
       "</style>\n",
       "<table border=\"1\" class=\"dataframe\">\n",
       "  <thead>\n",
       "    <tr style=\"text-align: right;\">\n",
       "      <th></th>\n",
       "      <th>Unnamed: 0</th>\n",
       "      <th>permit</th>\n",
       "      <th>city</th>\n",
       "      <th>state</th>\n",
       "      <th>zip</th>\n",
       "      <th>district</th>\n",
       "      <th>date_issued</th>\n",
       "      <th>lat</th>\n",
       "      <th>lng</th>\n",
       "    </tr>\n",
       "  </thead>\n",
       "  <tbody>\n",
       "    <tr>\n",
       "      <th>0</th>\n",
       "      <td>0</td>\n",
       "      <td>288.0</td>\n",
       "      <td>Nashville</td>\n",
       "      <td>TN</td>\n",
       "      <td>37211</td>\n",
       "      <td>30.0</td>\n",
       "      <td>11/26/2014</td>\n",
       "      <td>36.029132</td>\n",
       "      <td>-86.724578</td>\n",
       "    </tr>\n",
       "    <tr>\n",
       "      <th>1</th>\n",
       "      <td>1</td>\n",
       "      <td>435.0</td>\n",
       "      <td>Nashville</td>\n",
       "      <td>TN</td>\n",
       "      <td>37211</td>\n",
       "      <td>19.0</td>\n",
       "      <td>05/18/2015</td>\n",
       "      <td>36.069132</td>\n",
       "      <td>-86.754578</td>\n",
       "    </tr>\n",
       "    <tr>\n",
       "      <th>2</th>\n",
       "      <td>2</td>\n",
       "      <td>270.0</td>\n",
       "      <td>Nashville</td>\n",
       "      <td>TN</td>\n",
       "      <td>37216</td>\n",
       "      <td>7.0</td>\n",
       "      <td>11/20/2014</td>\n",
       "      <td>36.236134</td>\n",
       "      <td>-86.711204</td>\n",
       "    </tr>\n",
       "    <tr>\n",
       "      <th>3</th>\n",
       "      <td>3</td>\n",
       "      <td>249.0</td>\n",
       "      <td>Nashville</td>\n",
       "      <td>TN</td>\n",
       "      <td>37216</td>\n",
       "      <td>25.0</td>\n",
       "      <td>12/29/2014</td>\n",
       "      <td>36.246134</td>\n",
       "      <td>-86.751204</td>\n",
       "    </tr>\n",
       "    <tr>\n",
       "      <th>4</th>\n",
       "      <td>4</td>\n",
       "      <td>200.0</td>\n",
       "      <td>Nashville</td>\n",
       "      <td>TN</td>\n",
       "      <td>37221</td>\n",
       "      <td>22.0</td>\n",
       "      <td>12/10/2014</td>\n",
       "      <td>36.029367</td>\n",
       "      <td>-86.935290</td>\n",
       "    </tr>\n",
       "  </tbody>\n",
       "</table>\n",
       "</div>"
      ],
      "text/plain": [
       "   Unnamed: 0  permit       city state    zip  district date_issued  \\\n",
       "0           0   288.0  Nashville    TN  37211      30.0  11/26/2014   \n",
       "1           1   435.0  Nashville    TN  37211      19.0  05/18/2015   \n",
       "2           2   270.0  Nashville    TN  37216       7.0  11/20/2014   \n",
       "3           3   249.0  Nashville    TN  37216      25.0  12/29/2014   \n",
       "4           4   200.0  Nashville    TN  37221      22.0  12/10/2014   \n",
       "\n",
       "         lat        lng  \n",
       "0  36.029132 -86.724578  \n",
       "1  36.069132 -86.754578  \n",
       "2  36.236134 -86.711204  \n",
       "3  36.246134 -86.751204  \n",
       "4  36.029367 -86.935290  "
      ]
     },
     "execution_count": 29,
     "metadata": {},
     "output_type": "execute_result"
    }
   ],
   "source": [
    "chickens = pd.read_csv('data/Domesticated_Hen_Permits_clean_adjusted_lat_lng.csv')\n",
    "chickens.head()"
   ]
  },
  {
   "cell_type": "code",
   "execution_count": 30,
   "metadata": {},
   "outputs": [
    {
     "data": {
      "text/plain": [
       "<matplotlib.collections.PathCollection at 0x19c1b7f8d68>"
      ]
     },
     "execution_count": 30,
     "metadata": {},
     "output_type": "execute_result"
    },
    {
     "data": {
      "image/png": "[encoded data removed]",
      "text/plain": [
       "<Figure size 432x288 with 1 Axes>"
      ]
     },
     "metadata": {
      "needs_background": "light"
     },
     "output_type": "display_data"
    }
   ],
   "source": [
    "# Plot the locations of all Nashville chicken permits\n",
    "plt.scatter(x = chickens.lng, y = chickens.lat)"
   ]
  },
  {
   "cell_type": "markdown",
   "metadata": {},
   "source": [
    "- We can see the relative location of the Nashville chickens using longitude for the x-axis and latitude for the y-axis. "
   ]
  },
  {
   "cell_type": "markdown",
   "metadata": {},
   "source": [
    "### Creating a GeoDataFrame & examining the geometry"
   ]
  },
  {
   "cell_type": "code",
   "execution_count": null,
   "metadata": {},
   "outputs": [],
   "source": [
    "# Import geopandas\n",
    "import geopandas as gpd \n",
    "import matplotlib.pyplot as plt\n",
    "\n",
    "# Read in the services district shapefile and look at the first few rows.\n",
    "service_district = gpd.read_file(shapefile_path)\n",
    "print(service_district.head())\n",
    "\n",
    "# Print the contents of the service districts geometry in the first row\n",
    "print(service_district.loc[0, 'geometry'])"
   ]
  },
  {
   "cell_type": "markdown",
   "metadata": {},
   "source": [
    "- The geometry field holds a series of latitude/longitude pairs that define the border of a polygon. Printing a geometry field gives all of the latitude/longitude pairs that make up the polygon boundary."
   ]
  },
  {
   "cell_type": "markdown",
   "metadata": {},
   "source": [
    "### Plotting shapefile polygons\n",
    "- The next step is to show the map of polygons."
   ]
  },
  {
   "cell_type": "code",
   "execution_count": null,
   "metadata": {},
   "outputs": [],
   "source": [
    "# Plot the Service Districts without any additional arguments\n",
    "service_district.plot()\n",
    "plt.show()\n",
    "\n",
    "# Plot the Service Districts, color them according to name, and show a legend\n",
    "service_district.plot(column = 'name', legend = True)\n",
    "plt.show()"
   ]
  },
  {
   "cell_type": "markdown",
   "metadata": {},
   "source": [
    "### Plotting points over polygons"
   ]
  },
  {
   "cell_type": "code",
   "execution_count": null,
   "metadata": {},
   "outputs": [],
   "source": [
    "# Plot the service district shapefile\n",
    "service_district.plot(column=\"name\")\n",
    "\n",
    "# Add the chicken locations\n",
    "plt.scatter(x=chickens['lng'], y=chickens['lat'], c = 'black')\n",
    "\n",
    "# Show the plot\n",
    "plt.show()"
   ]
  },
  {
   "cell_type": "code",
   "execution_count": null,
   "metadata": {},
   "outputs": [],
   "source": [
    "# Plot the service district shapefile\n",
    "service_district.plot(column='name', legend=True)\n",
    "\n",
    "# Add the chicken locations\n",
    "plt.scatter(x=chickens['lng'], y=chickens['lat'], c='black', edgecolor = 'white')\n",
    "\n",
    "\n",
    "# Add labels and title\n",
    "plt.title('Nashville Chicken Permits')\n",
    "plt.xlabel('longitude')\n",
    "plt.ylabel('latitude')\n",
    "\n",
    "# Add grid lines and show the plot\n",
    "plt.grid()\n",
    "plt.show()"
   ]
  },
  {
   "cell_type": "markdown",
   "metadata": {},
   "source": [
    "### Colormaps\n",
    "- When you want to differentiate regions, but not imply any type of relationship between the regions, a qualitative colormap is the best choice. \n",
    "- compare a qualitative colormap to a sequential (quantitative) colormap using the school districts GeoDataFrame. "
   ]
  },
  {
   "cell_type": "code",
   "execution_count": 33,
   "metadata": {},
   "outputs": [
    {
     "data": {
      "text/html": [
       "<div>\n",
       "<style scoped>\n",
       "    .dataframe tbody tr th:only-of-type {\n",
       "        vertical-align: middle;\n",
       "    }\n",
       "\n",
       "    .dataframe tbody tr th {\n",
       "        vertical-align: top;\n",
       "    }\n",
       "\n",
       "    .dataframe thead th {\n",
       "        text-align: right;\n",
       "    }\n",
       "</style>\n",
       "<table border=\"1\" class=\"dataframe\">\n",
       "  <thead>\n",
       "    <tr style=\"text-align: right;\">\n",
       "      <th></th>\n",
       "      <th>first_name</th>\n",
       "      <th>city</th>\n",
       "      <th>zip</th>\n",
       "      <th>email</th>\n",
       "      <th>state</th>\n",
       "      <th>last_name</th>\n",
       "      <th>address</th>\n",
       "      <th>position</th>\n",
       "      <th>term_expir</th>\n",
       "      <th>district</th>\n",
       "      <th>phone</th>\n",
       "      <th>geometry</th>\n",
       "    </tr>\n",
       "  </thead>\n",
       "  <tbody>\n",
       "    <tr>\n",
       "      <th>0</th>\n",
       "      <td>Dr. Sharon</td>\n",
       "      <td>Nashville</td>\n",
       "      <td>37218</td>\n",
       "      <td>gentryfordistrict1@comcast.net</td>\n",
       "      <td>TN</td>\n",
       "      <td>Gentry</td>\n",
       "      <td>6108 Beals Lane</td>\n",
       "      <td>Member</td>\n",
       "      <td>2016</td>\n",
       "      <td>1</td>\n",
       "      <td>615-268-5269</td>\n",
       "      <td>MULTIPOLYGON (((-86.77136 36.38357, -86.77134 ...</td>\n",
       "    </tr>\n",
       "    <tr>\n",
       "      <th>1</th>\n",
       "      <td>Jill</td>\n",
       "      <td>Madison</td>\n",
       "      <td>37115</td>\n",
       "      <td>jill.speering@mnps.org</td>\n",
       "      <td>TN</td>\n",
       "      <td>Speering</td>\n",
       "      <td>1033 Falls Avenue</td>\n",
       "      <td>Vice-Chair</td>\n",
       "      <td>2016</td>\n",
       "      <td>3</td>\n",
       "      <td>615-562-5234</td>\n",
       "      <td>MULTIPOLYGON (((-86.75365 36.40428, -86.75353 ...</td>\n",
       "    </tr>\n",
       "    <tr>\n",
       "      <th>2</th>\n",
       "      <td>Dr. Jo Ann</td>\n",
       "      <td>Nashville</td>\n",
       "      <td>37220</td>\n",
       "      <td>joann.brannon@mnps.org</td>\n",
       "      <td>TN</td>\n",
       "      <td>Brannon</td>\n",
       "      <td>5444 San Marcos Drive</td>\n",
       "      <td>Member</td>\n",
       "      <td>2018</td>\n",
       "      <td>2</td>\n",
       "      <td>615-833-5976</td>\n",
       "      <td>MULTIPOLYGON (((-86.76696 36.08333, -86.76590 ...</td>\n",
       "    </tr>\n",
       "    <tr>\n",
       "      <th>3</th>\n",
       "      <td>Anna</td>\n",
       "      <td>Hermitage</td>\n",
       "      <td>37076</td>\n",
       "      <td>anna.shepherd@mnps.org</td>\n",
       "      <td>TN</td>\n",
       "      <td>Shepherd</td>\n",
       "      <td>4545 Raccoon Trail</td>\n",
       "      <td>Chair</td>\n",
       "      <td>2018</td>\n",
       "      <td>4</td>\n",
       "      <td>615-210-3768</td>\n",
       "      <td>MULTIPOLYGON (((-86.58098 36.20935, -86.58099 ...</td>\n",
       "    </tr>\n",
       "    <tr>\n",
       "      <th>4</th>\n",
       "      <td>Amy</td>\n",
       "      <td>Nashville</td>\n",
       "      <td>37221</td>\n",
       "      <td>amy.frogge@mnps.org</td>\n",
       "      <td>TN</td>\n",
       "      <td>Frogge</td>\n",
       "      <td>7237 Riverfront Drive</td>\n",
       "      <td>Member</td>\n",
       "      <td>2016</td>\n",
       "      <td>9</td>\n",
       "      <td>615-521-5650</td>\n",
       "      <td>MULTIPOLYGON (((-86.97287 36.20828, -86.97045 ...</td>\n",
       "    </tr>\n",
       "  </tbody>\n",
       "</table>\n",
       "</div>"
      ],
      "text/plain": [
       "   first_name       city    zip                           email state  \\\n",
       "0  Dr. Sharon  Nashville  37218  gentryfordistrict1@comcast.net    TN   \n",
       "1        Jill    Madison  37115          jill.speering@mnps.org    TN   \n",
       "2  Dr. Jo Ann  Nashville  37220          joann.brannon@mnps.org    TN   \n",
       "3        Anna  Hermitage  37076          anna.shepherd@mnps.org    TN   \n",
       "4         Amy  Nashville  37221             amy.frogge@mnps.org    TN   \n",
       "\n",
       "  last_name                address    position term_expir district  \\\n",
       "0    Gentry        6108 Beals Lane      Member       2016        1   \n",
       "1  Speering      1033 Falls Avenue  Vice-Chair       2016        3   \n",
       "2   Brannon  5444 San Marcos Drive      Member       2018        2   \n",
       "3  Shepherd     4545 Raccoon Trail       Chair       2018        4   \n",
       "4    Frogge  7237 Riverfront Drive      Member       2016        9   \n",
       "\n",
       "          phone                                           geometry  \n",
       "0  615-268-5269  MULTIPOLYGON (((-86.77136 36.38357, -86.77134 ...  \n",
       "1  615-562-5234  MULTIPOLYGON (((-86.75365 36.40428, -86.75353 ...  \n",
       "2  615-833-5976  MULTIPOLYGON (((-86.76696 36.08333, -86.76590 ...  \n",
       "3  615-210-3768  MULTIPOLYGON (((-86.58098 36.20935, -86.58099 ...  \n",
       "4  615-521-5650  MULTIPOLYGON (((-86.97287 36.20828, -86.97045 ...  "
      ]
     },
     "execution_count": 33,
     "metadata": {},
     "output_type": "execute_result"
    }
   ],
   "source": [
    "import geopandas as gpd \n",
    "import matplotlib.pyplot as plt\n",
    "\n",
    "school_districts = gpd.read_file('data/school_districts.json')\n",
    "school_districts.head()"
   ]
  },
  {
   "cell_type": "code",
   "execution_count": 35,
   "metadata": {},
   "outputs": [
    {
     "data": {
      "image/png": "[encoded data removed]",
      "text/plain": [
       "<Figure size 432x288 with 1 Axes>"
      ]
     },
     "metadata": {
      "needs_background": "light"
     },
     "output_type": "display_data"
    }
   ],
   "source": [
    "# Set legend style\n",
    "lgnd_kwds = {'title': 'School Districts',\n",
    "               'loc': 'upper left', 'bbox_to_anchor': (1, 1.03), 'ncol': 1}\n",
    "\n",
    "# Plot the school districts using the tab20 colormap (qualitative)\n",
    "school_districts.plot(column = 'district', cmap = 'tab20', legend = True, legend_kwds = lgnd_kwds)\n",
    "plt.xlabel('Latitude')\n",
    "plt.ylabel('Longitude')\n",
    "plt.title('Nashville School Districts')\n",
    "plt.show();"
   ]
  },
  {
   "cell_type": "markdown",
   "metadata": {},
   "source": [
    "- Plot `school_districts` with the sequential `summer` colormap. Keep the other arguments as they are."
   ]
  },
  {
   "cell_type": "code",
   "execution_count": 36,
   "metadata": {},
   "outputs": [
    {
     "data": {
      "image/png": "[encoded data removed]",
      "text/plain": [
       "<Figure size 432x288 with 1 Axes>"
      ]
     },
     "metadata": {
      "needs_background": "light"
     },
     "output_type": "display_data"
    }
   ],
   "source": [
    "# Set legend style\n",
    "lgnd_kwds = {'title': 'School Districts',\n",
    "               'loc': 'upper left', 'bbox_to_anchor': (1, 1.03), 'ncol': 1}\n",
    "\n",
    "# Plot the school districts using the summer colormap (sequential)\n",
    "school_districts.plot(column = 'district', cmap = 'summer', legend = True, legend_kwds = lgnd_kwds)\n",
    "plt.xlabel('Latitude')\n",
    "plt.ylabel('Longitude')\n",
    "plt.title('Nashville School Districts')\n",
    "plt.show();"
   ]
  },
  {
   "cell_type": "code",
   "execution_count": 37,
   "metadata": {
    "collapsed": true
   },
   "outputs": [
    {
     "data": {
      "image/png": "[encoded data removed]",
      "text/plain": [
       "<Figure size 432x288 with 1 Axes>"
      ]
     },
     "metadata": {
      "needs_background": "light"
     },
     "output_type": "display_data"
    }
   ],
   "source": [
    "# Set legend style\n",
    "lgnd_kwds = {'title': 'School Districts',\n",
    "               'loc': 'upper left', 'bbox_to_anchor': (1, 1.03), 'ncol': 1}\n",
    "\n",
    "# Plot the school districts using Set3 colormap without the column argument\n",
    "school_districts.plot(cmap = 'Set3', legend = True, legend_kwds = lgnd_kwds)\n",
    "plt.xlabel('Latitude')\n",
    "plt.ylabel('Longitude')\n",
    "plt.title('Nashville School Districts')\n",
    "plt.show();"
   ]
  },
  {
   "cell_type": "markdown",
   "metadata": {},
   "source": [
    "- There is no legend when the `column` argument is not supplied even if we set legend to True!"
   ]
  },
  {
   "cell_type": "markdown",
   "metadata": {},
   "source": [
    "### Map Nashville neighborhoods"
   ]
  },
  {
   "cell_type": "code",
   "execution_count": 154,
   "metadata": {},
   "outputs": [
    {
     "data": {
      "text/html": [
       "<div>\n",
       "<style scoped>\n",
       "    .dataframe tbody tr th:only-of-type {\n",
       "        vertical-align: middle;\n",
       "    }\n",
       "\n",
       "    .dataframe tbody tr th {\n",
       "        vertical-align: top;\n",
       "    }\n",
       "\n",
       "    .dataframe thead th {\n",
       "        text-align: right;\n",
       "    }\n",
       "</style>\n",
       "<table border=\"1\" class=\"dataframe\">\n",
       "  <thead>\n",
       "    <tr style=\"text-align: right;\">\n",
       "      <th></th>\n",
       "      <th>name</th>\n",
       "      <th>geometry</th>\n",
       "    </tr>\n",
       "  </thead>\n",
       "  <tbody>\n",
       "    <tr>\n",
       "      <th>0</th>\n",
       "      <td>Historic Buena Vista</td>\n",
       "      <td>MULTIPOLYGON (((-86.79511 36.17576, -86.79403 ...</td>\n",
       "    </tr>\n",
       "    <tr>\n",
       "      <th>1</th>\n",
       "      <td>Charlotte Park</td>\n",
       "      <td>MULTIPOLYGON (((-86.87460 36.15758, -86.87317 ...</td>\n",
       "    </tr>\n",
       "    <tr>\n",
       "      <th>2</th>\n",
       "      <td>Hillwood</td>\n",
       "      <td>MULTIPOLYGON (((-86.87614 36.13554, -86.87583 ...</td>\n",
       "    </tr>\n",
       "    <tr>\n",
       "      <th>3</th>\n",
       "      <td>West Meade</td>\n",
       "      <td>MULTIPOLYGON (((-86.90384 36.12554, -86.90328 ...</td>\n",
       "    </tr>\n",
       "    <tr>\n",
       "      <th>4</th>\n",
       "      <td>White Bridge</td>\n",
       "      <td>MULTIPOLYGON (((-86.86321 36.12886, -86.86321 ...</td>\n",
       "    </tr>\n",
       "  </tbody>\n",
       "</table>\n",
       "</div>"
      ],
      "text/plain": [
       "                   name                                           geometry\n",
       "0  Historic Buena Vista  MULTIPOLYGON (((-86.79511 36.17576, -86.79403 ...\n",
       "1        Charlotte Park  MULTIPOLYGON (((-86.87460 36.15758, -86.87317 ...\n",
       "2              Hillwood  MULTIPOLYGON (((-86.87614 36.13554, -86.87583 ...\n",
       "3            West Meade  MULTIPOLYGON (((-86.90384 36.12554, -86.90328 ...\n",
       "4          White Bridge  MULTIPOLYGON (((-86.86321 36.12886, -86.86321 ..."
      ]
     },
     "execution_count": 154,
     "metadata": {},
     "output_type": "execute_result"
    }
   ],
   "source": [
    "# Read in the neighborhoods geojson file\n",
    "neighborhoods = gpd.read_file('./data/neighborhoods.json') \n",
    "\n",
    "# Print the first few rows of neighborhoods\n",
    "neighborhoods.head()"
   ]
  },
  {
   "cell_type": "code",
   "execution_count": 155,
   "metadata": {},
   "outputs": [
    {
     "data": {
      "image/png": "[encoded data removed]",
      "text/plain": [
       "<Figure size 432x288 with 1 Axes>"
      ]
     },
     "metadata": {
      "needs_background": "light"
     },
     "output_type": "display_data"
    }
   ],
   "source": [
    "# Plot the neighborhoods, color according to name and use the Dark2 colormap\n",
    "neighborhoods.plot(column = 'name', cmap = 'Dark2')\n",
    "\n",
    "# Show the plot.\n",
    "plt.show()"
   ]
  },
  {
   "cell_type": "markdown",
   "metadata": {},
   "source": [
    "- That's a lot of neighborhoods! How will we find one to stroll through and look at public art?"
   ]
  },
  {
   "cell_type": "markdown",
   "metadata": {},
   "source": [
    "#### Changing coordinate reference systems\n",
    "- find a GeoDataFrame's coordinate reference system and change it. "
   ]
  },
  {
   "cell_type": "code",
   "execution_count": 40,
   "metadata": {},
   "outputs": [
    {
     "data": {
      "text/html": [
       "<div>\n",
       "<style scoped>\n",
       "    .dataframe tbody tr th:only-of-type {\n",
       "        vertical-align: middle;\n",
       "    }\n",
       "\n",
       "    .dataframe tbody tr th {\n",
       "        vertical-align: top;\n",
       "    }\n",
       "\n",
       "    .dataframe thead th {\n",
       "        text-align: right;\n",
       "    }\n",
       "</style>\n",
       "<table border=\"1\" class=\"dataframe\">\n",
       "  <thead>\n",
       "    <tr style=\"text-align: right;\">\n",
       "      <th></th>\n",
       "      <th>first_name</th>\n",
       "      <th>city</th>\n",
       "      <th>zip</th>\n",
       "      <th>email</th>\n",
       "      <th>state</th>\n",
       "      <th>last_name</th>\n",
       "      <th>address</th>\n",
       "      <th>position</th>\n",
       "      <th>term_expir</th>\n",
       "      <th>district</th>\n",
       "      <th>phone</th>\n",
       "      <th>geometry</th>\n",
       "    </tr>\n",
       "  </thead>\n",
       "  <tbody>\n",
       "    <tr>\n",
       "      <th>0</th>\n",
       "      <td>Dr. Sharon</td>\n",
       "      <td>Nashville</td>\n",
       "      <td>37218</td>\n",
       "      <td>gentryfordistrict1@comcast.net</td>\n",
       "      <td>TN</td>\n",
       "      <td>Gentry</td>\n",
       "      <td>6108 Beals Lane</td>\n",
       "      <td>Member</td>\n",
       "      <td>2016</td>\n",
       "      <td>1</td>\n",
       "      <td>615-268-5269</td>\n",
       "      <td>MULTIPOLYGON (((-86.77136 36.38357, -86.77134 ...</td>\n",
       "    </tr>\n",
       "  </tbody>\n",
       "</table>\n",
       "</div>"
      ],
      "text/plain": [
       "   first_name       city    zip                           email state  \\\n",
       "0  Dr. Sharon  Nashville  37218  gentryfordistrict1@comcast.net    TN   \n",
       "\n",
       "  last_name          address position term_expir district         phone  \\\n",
       "0    Gentry  6108 Beals Lane   Member       2016        1  615-268-5269   \n",
       "\n",
       "                                            geometry  \n",
       "0  MULTIPOLYGON (((-86.77136 36.38357, -86.77134 ...  "
      ]
     },
     "execution_count": 40,
     "metadata": {},
     "output_type": "execute_result"
    }
   ],
   "source": [
    "# Print the first row of school districts GeoDataFrame and the crs\n",
    "school_districts.head(1)"
   ]
  },
  {
   "cell_type": "code",
   "execution_count": 42,
   "metadata": {},
   "outputs": [
    {
     "name": "stdout",
     "output_type": "stream",
     "text": [
      "epsg:4326\n"
     ]
    }
   ],
   "source": [
    "print(school_districts.crs)"
   ]
  },
  {
   "cell_type": "code",
   "execution_count": 44,
   "metadata": {},
   "outputs": [
    {
     "data": {
      "text/html": [
       "<div>\n",
       "<style scoped>\n",
       "    .dataframe tbody tr th:only-of-type {\n",
       "        vertical-align: middle;\n",
       "    }\n",
       "\n",
       "    .dataframe tbody tr th {\n",
       "        vertical-align: top;\n",
       "    }\n",
       "\n",
       "    .dataframe thead th {\n",
       "        text-align: right;\n",
       "    }\n",
       "</style>\n",
       "<table border=\"1\" class=\"dataframe\">\n",
       "  <thead>\n",
       "    <tr style=\"text-align: right;\">\n",
       "      <th></th>\n",
       "      <th>first_name</th>\n",
       "      <th>city</th>\n",
       "      <th>zip</th>\n",
       "      <th>email</th>\n",
       "      <th>state</th>\n",
       "      <th>last_name</th>\n",
       "      <th>address</th>\n",
       "      <th>position</th>\n",
       "      <th>term_expir</th>\n",
       "      <th>district</th>\n",
       "      <th>phone</th>\n",
       "      <th>geometry</th>\n",
       "    </tr>\n",
       "  </thead>\n",
       "  <tbody>\n",
       "    <tr>\n",
       "      <th>0</th>\n",
       "      <td>Dr. Sharon</td>\n",
       "      <td>Nashville</td>\n",
       "      <td>37218</td>\n",
       "      <td>gentryfordistrict1@comcast.net</td>\n",
       "      <td>TN</td>\n",
       "      <td>Gentry</td>\n",
       "      <td>6108 Beals Lane</td>\n",
       "      <td>Member</td>\n",
       "      <td>2016</td>\n",
       "      <td>1</td>\n",
       "      <td>615-268-5269</td>\n",
       "      <td>MULTIPOLYGON (((-9659344.056 4353528.767, -965...</td>\n",
       "    </tr>\n",
       "  </tbody>\n",
       "</table>\n",
       "</div>"
      ],
      "text/plain": [
       "   first_name       city    zip                           email state  \\\n",
       "0  Dr. Sharon  Nashville  37218  gentryfordistrict1@comcast.net    TN   \n",
       "\n",
       "  last_name          address position term_expir district         phone  \\\n",
       "0    Gentry  6108 Beals Lane   Member       2016        1  615-268-5269   \n",
       "\n",
       "                                            geometry  \n",
       "0  MULTIPOLYGON (((-9659344.056 4353528.767, -965...  "
      ]
     },
     "execution_count": 44,
     "metadata": {},
     "output_type": "execute_result"
    }
   ],
   "source": [
    "# Convert the crs to epsg:3857\n",
    "school_districts.geometry = school_districts.geometry.to_crs(epsg = 3857)\n",
    "school_districts.head(1)"
   ]
  },
  {
   "cell_type": "code",
   "execution_count": 45,
   "metadata": {},
   "outputs": [
    {
     "name": "stdout",
     "output_type": "stream",
     "text": [
      "epsg:3857\n"
     ]
    }
   ],
   "source": [
    "print(school_districts.crs)"
   ]
  },
  {
   "cell_type": "markdown",
   "metadata": {},
   "source": [
    "- We can change the **coordinate reference system** of a GeoDataFrame by changing the `crs property` of the GeoDataFrame. \n",
    "- Notice that the units for geometry change when we change the CRS. We always need to ensure two GeoDataFrames share the same crs before we spatially join them."
   ]
  },
  {
   "cell_type": "markdown",
   "metadata": {},
   "source": [
    "#### Construct a GeoDataFrame from a DataFrame\n",
    "-  construct a geopandas GeoDataFrame from the Nashville Public Art DataFrame. We will need to import the **Point** constructor from the `shapely.geometry` module to create a geometry column in art before we can create a GeoDataFrame from art. \n",
    "- This will get us ready to spatially join the art data and the neighborhoods data in order to discover which neighborhood has the most art."
   ]
  },
  {
   "cell_type": "code",
   "execution_count": 121,
   "metadata": {},
   "outputs": [
    {
     "data": {
      "text/html": [
       "<div>\n",
       "<style scoped>\n",
       "    .dataframe tbody tr th:only-of-type {\n",
       "        vertical-align: middle;\n",
       "    }\n",
       "\n",
       "    .dataframe tbody tr th {\n",
       "        vertical-align: top;\n",
       "    }\n",
       "\n",
       "    .dataframe thead th {\n",
       "        text-align: right;\n",
       "    }\n",
       "</style>\n",
       "<table border=\"1\" class=\"dataframe\">\n",
       "  <thead>\n",
       "    <tr style=\"text-align: right;\">\n",
       "      <th></th>\n",
       "      <th>Title</th>\n",
       "      <th>Last Name</th>\n",
       "      <th>First Name</th>\n",
       "      <th>Location</th>\n",
       "      <th>Medium</th>\n",
       "      <th>Type</th>\n",
       "      <th>Description</th>\n",
       "      <th>Latitude</th>\n",
       "      <th>Longitude</th>\n",
       "      <th>Mapped Location</th>\n",
       "    </tr>\n",
       "  </thead>\n",
       "  <tbody>\n",
       "    <tr>\n",
       "      <th>0</th>\n",
       "      <td>[Cross Country Runners]</td>\n",
       "      <td>Frost</td>\n",
       "      <td>Miley</td>\n",
       "      <td>4001 Harding Rd., Nashville TN</td>\n",
       "      <td>Bronze</td>\n",
       "      <td>Sculpture</td>\n",
       "      <td>NaN</td>\n",
       "      <td>36.12856</td>\n",
       "      <td>-86.8366</td>\n",
       "      <td>(36.12856, -86.8366)</td>\n",
       "    </tr>\n",
       "  </tbody>\n",
       "</table>\n",
       "</div>"
      ],
      "text/plain": [
       "                     Title Last Name First Name  \\\n",
       "0  [Cross Country Runners]     Frost      Miley   \n",
       "\n",
       "                         Location  Medium       Type Description  Latitude  \\\n",
       "0  4001 Harding Rd., Nashville TN  Bronze  Sculpture         NaN  36.12856   \n",
       "\n",
       "   Longitude       Mapped Location  \n",
       "0   -86.8366  (36.12856, -86.8366)  "
      ]
     },
     "execution_count": 121,
     "metadata": {},
     "output_type": "execute_result"
    }
   ],
   "source": [
    "art = pd.read_csv('data/public_art.csv')\n",
    "art.head(1)"
   ]
  },
  {
   "cell_type": "code",
   "execution_count": 122,
   "metadata": {},
   "outputs": [
    {
     "data": {
      "text/plain": [
       "Index(['Title', 'Last Name', 'First Name', 'Location', 'Medium', 'Type',\n",
       "       'Description', 'Latitude', 'Longitude', 'Mapped Location'],\n",
       "      dtype='object')"
      ]
     },
     "execution_count": 122,
     "metadata": {},
     "output_type": "execute_result"
    }
   ],
   "source": [
    "art.columns"
   ]
  },
  {
   "cell_type": "code",
   "execution_count": 147,
   "metadata": {},
   "outputs": [
    {
     "name": "stdout",
     "output_type": "stream",
     "text": [
      "<class 'geopandas.geodataframe.GeoDataFrame'>\n"
     ]
    }
   ],
   "source": [
    "from shapely.geometry import Point\n",
    "df = art[['Longitude', 'Latitude']]\n",
    "\n",
    "formula = lambda lng, lat: Point(float(lng), float(lat))\n",
    "\n",
    "l = []\n",
    "for ix, row in df.iterrows():\n",
    "    l.append(formula(row['Longitude'], row['Latitude']))\n",
    "    \n",
    "art['geometry'] = l\n",
    "# Create a geometry column from lng & lat\n",
    "# art['geometry'] = df.apply(lambda x: Point(float(x.Longitude), float(x.Latitude)), axis=1)\n",
    "\n",
    "# # Create a GeoDataFrame from art and verify the type\n",
    "art_geo = gpd.GeoDataFrame(art, crs = neighborhoods.crs, geometry = art.geometry)\n",
    "print(type(art_geo))"
   ]
  },
  {
   "cell_type": "markdown",
   "metadata": {},
   "source": [
    "- Now that the public art data is in a GeoDataFrame we can join it to the neighborhoods with a special kind of join called a spatial join. "
   ]
  },
  {
   "cell_type": "markdown",
   "metadata": {},
   "source": [
    "### Spatial join\n",
    "- Is there a difference between art (point data) that intersects with neighborhoods (polygon data) and art (point data) within neighborhoods (polygon data)\n",
    "- Write a spatial join to find the art in art_geo that intersects with neighborhoods\n",
    "- write a spatial join to find the art in art_geo that is within neighborhoods\n",
    "- write a spatial join to find the art locations in art_geo that contain neighborhoods"
   ]
  },
  {
   "cell_type": "code",
   "execution_count": 149,
   "metadata": {},
   "outputs": [
    {
     "name": "stdout",
     "output_type": "stream",
     "text": [
      "(40, 13)\n"
     ]
    }
   ],
   "source": [
    "# Spatially join art_geo and neighborhoods \n",
    "art_intersect_neighborhoods = gpd.sjoin(art_geo, neighborhoods, op = 'intersects')\n",
    "\n",
    "# Print the shape property of art_intersect_neighborhoods\n",
    "print(art_intersect_neighborhoods.shape)"
   ]
  },
  {
   "cell_type": "code",
   "execution_count": 150,
   "metadata": {},
   "outputs": [
    {
     "name": "stdout",
     "output_type": "stream",
     "text": [
      "(40, 13)\n"
     ]
    }
   ],
   "source": [
    "# Create art_within_neighborhoods by spatially joining art_geo and neighborhoods\n",
    "art_within_neighborhoods = gpd.sjoin(art_geo, neighborhoods, op = 'within')\n",
    "\n",
    "# Print the shape property of art_within_neighborhoods\n",
    "print(art_within_neighborhoods.shape)"
   ]
  },
  {
   "cell_type": "code",
   "execution_count": 151,
   "metadata": {},
   "outputs": [
    {
     "name": "stdout",
     "output_type": "stream",
     "text": [
      "(0, 13)\n"
     ]
    }
   ],
   "source": [
    "# Spatially join art_geo and neighborhoods and using the contains op\n",
    "art_containing_neighborhoods = gpd.sjoin(art_geo, neighborhoods, op = 'contains')\n",
    "\n",
    "# Print the shape property of art_containing_neighborhoods\n",
    "print(art_containing_neighborhoods.shape)"
   ]
  },
  {
   "cell_type": "markdown",
   "metadata": {},
   "source": [
    "### Finding the neighborhood with the most public art\n",
    "- Now that we have created art_geo, a GeoDataFrame, from the art DataFrame, we can join it spatially to the neighborhoods data to see what art is in each neighborhood."
   ]
  },
  {
   "cell_type": "code",
   "execution_count": 157,
   "metadata": {},
   "outputs": [
    {
     "data": {
      "text/html": [
       "<div>\n",
       "<style scoped>\n",
       "    .dataframe tbody tr th:only-of-type {\n",
       "        vertical-align: middle;\n",
       "    }\n",
       "\n",
       "    .dataframe tbody tr th {\n",
       "        vertical-align: top;\n",
       "    }\n",
       "\n",
       "    .dataframe thead th {\n",
       "        text-align: right;\n",
       "    }\n",
       "</style>\n",
       "<table border=\"1\" class=\"dataframe\">\n",
       "  <thead>\n",
       "    <tr style=\"text-align: right;\">\n",
       "      <th></th>\n",
       "      <th>Title</th>\n",
       "      <th>Last Name</th>\n",
       "      <th>First Name</th>\n",
       "      <th>Location</th>\n",
       "      <th>Medium</th>\n",
       "      <th>Type</th>\n",
       "      <th>Description</th>\n",
       "      <th>Latitude</th>\n",
       "      <th>Longitude</th>\n",
       "      <th>Mapped Location</th>\n",
       "      <th>geometry</th>\n",
       "      <th>index_right</th>\n",
       "      <th>name</th>\n",
       "    </tr>\n",
       "  </thead>\n",
       "  <tbody>\n",
       "    <tr>\n",
       "      <th>1</th>\n",
       "      <td>[Fourth and Commerce Sculpture]</td>\n",
       "      <td>Walker</td>\n",
       "      <td>Lin</td>\n",
       "      <td>333 Commerce Street, Nashville TN</td>\n",
       "      <td>NaN</td>\n",
       "      <td>Sculpture</td>\n",
       "      <td>NaN</td>\n",
       "      <td>36.16234</td>\n",
       "      <td>-86.77774</td>\n",
       "      <td>(36.16234, -86.77774)</td>\n",
       "      <td>POINT (-86.77774 36.16234)</td>\n",
       "      <td>41</td>\n",
       "      <td>Urban Residents</td>\n",
       "    </tr>\n",
       "    <tr>\n",
       "      <th>4</th>\n",
       "      <td>A Story of Nashville</td>\n",
       "      <td>Ridley</td>\n",
       "      <td>Greg</td>\n",
       "      <td>615 Church Street, Nashville TN</td>\n",
       "      <td>Hammered copper repousse</td>\n",
       "      <td>Frieze</td>\n",
       "      <td>Inside the Grand Reading Room, this is a serie...</td>\n",
       "      <td>36.16215</td>\n",
       "      <td>-86.78205</td>\n",
       "      <td>(36.16215, -86.78205)</td>\n",
       "      <td>POINT (-86.78205 36.16215)</td>\n",
       "      <td>41</td>\n",
       "      <td>Urban Residents</td>\n",
       "    </tr>\n",
       "    <tr>\n",
       "      <th>21</th>\n",
       "      <td>Chet Atkins</td>\n",
       "      <td>Faxon</td>\n",
       "      <td>Russell</td>\n",
       "      <td>Corner of Fifth Avenue North and Union Street,...</td>\n",
       "      <td>Bronze stool and guitar on a granite plynth</td>\n",
       "      <td>Sculpture</td>\n",
       "      <td>A sculpture of a young Chet Atkins seated on a...</td>\n",
       "      <td>36.16466</td>\n",
       "      <td>-86.78102</td>\n",
       "      <td>(36.16466, -86.78102)</td>\n",
       "      <td>POINT (-86.78102 36.16466)</td>\n",
       "      <td>41</td>\n",
       "      <td>Urban Residents</td>\n",
       "    </tr>\n",
       "    <tr>\n",
       "      <th>22</th>\n",
       "      <td>Children's Chairs For The Seasons</td>\n",
       "      <td>McGraw</td>\n",
       "      <td>Deloss</td>\n",
       "      <td>615 Church Street, Nashville TN</td>\n",
       "      <td>Mixed Media - wood and paint</td>\n",
       "      <td>Furniture</td>\n",
       "      <td>chairs depicting the four seasons</td>\n",
       "      <td>36.16215</td>\n",
       "      <td>-86.78205</td>\n",
       "      <td>(36.16215, -86.78205)</td>\n",
       "      <td>POINT (-86.78205 36.16215)</td>\n",
       "      <td>41</td>\n",
       "      <td>Urban Residents</td>\n",
       "    </tr>\n",
       "    <tr>\n",
       "      <th>34</th>\n",
       "      <td>Foliated Scroll</td>\n",
       "      <td>Bloomer</td>\n",
       "      <td>Kent</td>\n",
       "      <td>615 Church Street, Nashville TN</td>\n",
       "      <td>Aluminum</td>\n",
       "      <td>Frieze</td>\n",
       "      <td>a contemporary adaptation of a classical folia...</td>\n",
       "      <td>36.16215</td>\n",
       "      <td>-86.78205</td>\n",
       "      <td>(36.16215, -86.78205)</td>\n",
       "      <td>POINT (-86.78205 36.16215)</td>\n",
       "      <td>41</td>\n",
       "      <td>Urban Residents</td>\n",
       "    </tr>\n",
       "  </tbody>\n",
       "</table>\n",
       "</div>"
      ],
      "text/plain": [
       "                                Title Last Name First Name  \\\n",
       "1     [Fourth and Commerce Sculpture]    Walker        Lin   \n",
       "4                A Story of Nashville    Ridley       Greg   \n",
       "21                        Chet Atkins     Faxon    Russell   \n",
       "22  Children's Chairs For The Seasons    McGraw     Deloss   \n",
       "34                    Foliated Scroll   Bloomer       Kent   \n",
       "\n",
       "                                             Location  \\\n",
       "1                   333 Commerce Street, Nashville TN   \n",
       "4                     615 Church Street, Nashville TN   \n",
       "21  Corner of Fifth Avenue North and Union Street,...   \n",
       "22                    615 Church Street, Nashville TN   \n",
       "34                    615 Church Street, Nashville TN   \n",
       "\n",
       "                                         Medium       Type  \\\n",
       "1                                           NaN  Sculpture   \n",
       "4                      Hammered copper repousse     Frieze   \n",
       "21  Bronze stool and guitar on a granite plynth  Sculpture   \n",
       "22                 Mixed Media - wood and paint  Furniture   \n",
       "34                                     Aluminum     Frieze   \n",
       "\n",
       "                                          Description  Latitude  Longitude  \\\n",
       "1                                                 NaN  36.16234  -86.77774   \n",
       "4   Inside the Grand Reading Room, this is a serie...  36.16215  -86.78205   \n",
       "21  A sculpture of a young Chet Atkins seated on a...  36.16466  -86.78102   \n",
       "22                  chairs depicting the four seasons  36.16215  -86.78205   \n",
       "34  a contemporary adaptation of a classical folia...  36.16215  -86.78205   \n",
       "\n",
       "          Mapped Location                    geometry  index_right  \\\n",
       "1   (36.16234, -86.77774)  POINT (-86.77774 36.16234)           41   \n",
       "4   (36.16215, -86.78205)  POINT (-86.78205 36.16215)           41   \n",
       "21  (36.16466, -86.78102)  POINT (-86.78102 36.16466)           41   \n",
       "22  (36.16215, -86.78205)  POINT (-86.78205 36.16215)           41   \n",
       "34  (36.16215, -86.78205)  POINT (-86.78205 36.16215)           41   \n",
       "\n",
       "               name  \n",
       "1   Urban Residents  \n",
       "4   Urban Residents  \n",
       "21  Urban Residents  \n",
       "22  Urban Residents  \n",
       "34  Urban Residents  "
      ]
     },
     "execution_count": 157,
     "metadata": {},
     "output_type": "execute_result"
    }
   ],
   "source": [
    "# Spatially join neighborhoods with art_geo\n",
    "neighborhood_art = gpd.sjoin(art_geo, neighborhoods, op = \"within\")\n",
    "\n",
    "# Print the first few rows\n",
    "neighborhood_art.head()"
   ]
  },
  {
   "cell_type": "markdown",
   "metadata": {},
   "source": [
    "- Now that we have successfully joined art and neighborhoods we can see the title and other information about the artwork along with the name of the neighborhood where it is located. "
   ]
  },
  {
   "cell_type": "markdown",
   "metadata": {},
   "source": [
    "### Aggregating points within polygons\n",
    "- Now that we have spatially joined art and neighborhoods, we can group, aggregate, and sort the data to find which neighborhood has the most public art. We can count artwork titles to see how many artworks are in each neighborhood."
   ]
  },
  {
   "cell_type": "code",
   "execution_count": 159,
   "metadata": {},
   "outputs": [
    {
     "name": "stdout",
     "output_type": "stream",
     "text": [
      "                          Title\n",
      "name                           \n",
      "Urban Residents              22\n",
      "Lockeland Springs             3\n",
      "Edgehill (ONE)                2\n",
      "Germantown                    2\n",
      "Hillsboro-West End            2\n",
      "Inglewood                     2\n",
      "Sunnyside                     2\n",
      "Chestnut Hill (TAG)           1\n",
      "Historic Edgefield            1\n",
      "McFerrin Park                 1\n",
      "Renraw                        1\n",
      "Wedgewood Houston (SNAP)      1\n"
     ]
    }
   ],
   "source": [
    "# Get name and title from neighborhood_art and group by name\n",
    "neighborhood_art_grouped = neighborhood_art[['name', 'Title']].groupby('name')\n",
    "\n",
    "# Aggregate the grouped data and count the artworks within each polygon\n",
    "print(neighborhood_art_grouped.agg('count').sort_values(by = 'Title', ascending = False))"
   ]
  },
  {
   "cell_type": "markdown",
   "metadata": {},
   "source": [
    "### Plotting the Urban Residents neighborhood and art\n",
    "- Now we know that most art is in the Urban Residents neighborhood. In this exercise, we'll create a plot of art in that neighborhood. First we will subset just the urban_art from neighborhood_art and we'll subset the urban_polygon from neighborhoods. Then we will create a plot of the polygon as ax before adding a plot of the art."
   ]
  },
  {
   "cell_type": "code",
   "execution_count": 160,
   "metadata": {},
   "outputs": [
    {
     "data": {
      "image/png": "[encoded data removed]",
      "text/plain": [
       "<Figure size 432x288 with 1 Axes>"
      ]
     },
     "metadata": {
      "needs_background": "light"
     },
     "output_type": "display_data"
    }
   ],
   "source": [
    "# Create urban_art from neighborhood_art where the neighborhood name is Urban Residents\n",
    "urban_art = neighborhood_art.loc[neighborhood_art.name == 'Urban Residents']\n",
    "\n",
    "# Get just the Urban Residents neighborhood polygon and save it as urban_polygon\n",
    "urban_polygon = neighborhoods.loc[neighborhoods.name == \"Urban Residents\"]\n",
    "\n",
    "# Plot the urban_polygon as ax \n",
    "ax = urban_polygon.plot(color = 'lightgreen')\n",
    "\n",
    "# Add a plot of the urban_art and show it\n",
    "urban_art.plot( ax = ax, column = 'Type', legend = True);\n",
    "plt.show()"
   ]
  },
  {
   "cell_type": "markdown",
   "metadata": {},
   "source": [
    "- The light green area shows the boundary of the Urban Residents neighborhood and the art locations are color coded by type of work."
   ]
  },
  {
   "cell_type": "markdown",
   "metadata": {},
   "source": [
    "### Find the area of the Urban Residents neighborhood\n"
   ]
  },
  {
   "cell_type": "code",
   "execution_count": 163,
   "metadata": {},
   "outputs": [
    {
     "data": {
      "text/html": [
       "<div>\n",
       "<style scoped>\n",
       "    .dataframe tbody tr th:only-of-type {\n",
       "        vertical-align: middle;\n",
       "    }\n",
       "\n",
       "    .dataframe tbody tr th {\n",
       "        vertical-align: top;\n",
       "    }\n",
       "\n",
       "    .dataframe thead th {\n",
       "        text-align: right;\n",
       "    }\n",
       "</style>\n",
       "<table border=\"1\" class=\"dataframe\">\n",
       "  <thead>\n",
       "    <tr style=\"text-align: right;\">\n",
       "      <th></th>\n",
       "      <th>name</th>\n",
       "      <th>geometry</th>\n",
       "    </tr>\n",
       "  </thead>\n",
       "  <tbody>\n",
       "    <tr>\n",
       "      <th>41</th>\n",
       "      <td>Urban Residents</td>\n",
       "      <td>MULTIPOLYGON (((-86.78122 36.16457, -86.78205 ...</td>\n",
       "    </tr>\n",
       "  </tbody>\n",
       "</table>\n",
       "</div>"
      ],
      "text/plain": [
       "               name                                           geometry\n",
       "41  Urban Residents  MULTIPOLYGON (((-86.78122 36.16457, -86.78205 ..."
      ]
     },
     "execution_count": 163,
     "metadata": {},
     "output_type": "execute_result"
    }
   ],
   "source": [
    "urban_polygon.head()"
   ]
  },
  {
   "cell_type": "code",
   "execution_count": 178,
   "metadata": {},
   "outputs": [
    {
     "data": {
      "text/plain": [
       "1.1289896057983793"
      ]
     },
     "execution_count": 178,
     "metadata": {},
     "output_type": "execute_result"
    }
   ],
   "source": [
    "urban_poly_3857.geometry.area.values[0]/10**6"
   ]
  },
  {
   "cell_type": "code",
   "execution_count": 181,
   "metadata": {},
   "outputs": [
    {
     "name": "stdout",
     "output_type": "stream",
     "text": [
      "               name                                           geometry\n",
      "41  Urban Residents  MULTIPOLYGON (((-9660441.281 4323289.005, -966...\n",
      "The area of the Urban Residents neighborhood is  1.1289896057983793  km squared\n"
     ]
    }
   ],
   "source": [
    "# Create a copy of the urban_polygon using EPSG:3857 and print the head\n",
    "urban_poly_3857 = urban_polygon.to_crs(epsg = 3857)\n",
    "print(urban_poly_3857.head())\n",
    "\n",
    "# Print the area of urban_poly_3857 in kilometers squared\n",
    "area = urban_poly_3857.geometry.area.values[0] / 10**6\n",
    "print('The area of the Urban Residents neighborhood is ', area, ' km squared')"
   ]
  },
  {
   "cell_type": "markdown",
   "metadata": {},
   "source": [
    "### The center of the Urban Residents neighborhood\n",
    "- find the center point of the urban_poly_3857 and plot it over the polygon."
   ]
  },
  {
   "cell_type": "code",
   "execution_count": 182,
   "metadata": {},
   "outputs": [
    {
     "name": "stdout",
     "output_type": "stream",
     "text": [
      "<class 'geopandas.geoseries.GeoSeries'>\n"
     ]
    },
    {
     "data": {
      "image/png": "[encoded data removed]",
      "text/plain": [
       "<Figure size 432x288 with 1 Axes>"
      ]
     },
     "metadata": {
      "needs_background": "light"
     },
     "output_type": "display_data"
    }
   ],
   "source": [
    "# Create downtown_center from urban_poly_3857\n",
    "downtown_center = urban_poly_3857.geometry.centroid\n",
    "\n",
    "# Print the type of downtown_center \n",
    "print(type(downtown_center))\n",
    "\n",
    "# Plot the urban_poly_3857 as ax and add the center point\n",
    "ax = urban_poly_3857.plot(color = 'lightgreen')\n",
    "downtown_center.plot(ax = ax, color = 'black')\n",
    "plt.xticks(rotation = 45)\n",
    "\n",
    "# Show the plot\n",
    "plt.show()"
   ]
  },
  {
   "cell_type": "markdown",
   "metadata": {},
   "source": [
    "### Prepare to calculate distances\n",
    "- prepare a GeoDataFrame called art_dist_meters with the locations of downtown art converted to meters using EPSG:3857"
   ]
  },
  {
   "cell_type": "code",
   "execution_count": 184,
   "metadata": {},
   "outputs": [
    {
     "name": "stderr",
     "output_type": "stream",
     "text": [
      "C:\\Users\\Shubham\\Anaconda3\\lib\\site-packages\\pyproj\\crs\\crs.py:53: FutureWarning: '+init=<authority>:<code>' syntax is deprecated. '<authority>:<code>' is the preferred initialization method. When making the change, be mindful of axis order changes: https://pyproj4.github.io/pyproj/stable/gotchas.html#axis-order-changes-in-proj-6\n",
      "  return _prepare_from_string(\" \".join(pjargs))\n"
     ]
    },
    {
     "data": {
      "text/html": [
       "<div>\n",
       "<style scoped>\n",
       "    .dataframe tbody tr th:only-of-type {\n",
       "        vertical-align: middle;\n",
       "    }\n",
       "\n",
       "    .dataframe tbody tr th {\n",
       "        vertical-align: top;\n",
       "    }\n",
       "\n",
       "    .dataframe thead th {\n",
       "        text-align: right;\n",
       "    }\n",
       "</style>\n",
       "<table border=\"1\" class=\"dataframe\">\n",
       "  <thead>\n",
       "    <tr style=\"text-align: right;\">\n",
       "      <th></th>\n",
       "      <th>Title</th>\n",
       "      <th>Last Name</th>\n",
       "      <th>First Name</th>\n",
       "      <th>Location</th>\n",
       "      <th>Medium</th>\n",
       "      <th>Type</th>\n",
       "      <th>Description</th>\n",
       "      <th>Latitude</th>\n",
       "      <th>Longitude</th>\n",
       "      <th>Mapped Location</th>\n",
       "      <th>geometry</th>\n",
       "    </tr>\n",
       "  </thead>\n",
       "  <tbody>\n",
       "    <tr>\n",
       "      <th>0</th>\n",
       "      <td>[Cross Country Runners]</td>\n",
       "      <td>Frost</td>\n",
       "      <td>Miley</td>\n",
       "      <td>4001 Harding Rd., Nashville TN</td>\n",
       "      <td>Bronze</td>\n",
       "      <td>Sculpture</td>\n",
       "      <td>NaN</td>\n",
       "      <td>36.12856</td>\n",
       "      <td>-86.83660</td>\n",
       "      <td>(36.12856, -86.8366)</td>\n",
       "      <td>POINT (-86.83660 36.12856)</td>\n",
       "    </tr>\n",
       "    <tr>\n",
       "      <th>1</th>\n",
       "      <td>[Fourth and Commerce Sculpture]</td>\n",
       "      <td>Walker</td>\n",
       "      <td>Lin</td>\n",
       "      <td>333 Commerce Street, Nashville TN</td>\n",
       "      <td>NaN</td>\n",
       "      <td>Sculpture</td>\n",
       "      <td>NaN</td>\n",
       "      <td>36.16234</td>\n",
       "      <td>-86.77774</td>\n",
       "      <td>(36.16234, -86.77774)</td>\n",
       "      <td>POINT (-86.77774 36.16234)</td>\n",
       "    </tr>\n",
       "  </tbody>\n",
       "</table>\n",
       "</div>"
      ],
      "text/plain": [
       "                             Title Last Name First Name  \\\n",
       "0          [Cross Country Runners]     Frost      Miley   \n",
       "1  [Fourth and Commerce Sculpture]    Walker        Lin   \n",
       "\n",
       "                            Location  Medium       Type Description  Latitude  \\\n",
       "0     4001 Harding Rd., Nashville TN  Bronze  Sculpture         NaN  36.12856   \n",
       "1  333 Commerce Street, Nashville TN     NaN  Sculpture         NaN  36.16234   \n",
       "\n",
       "   Longitude        Mapped Location                    geometry  \n",
       "0  -86.83660   (36.12856, -86.8366)  POINT (-86.83660 36.12856)  \n",
       "1  -86.77774  (36.16234, -86.77774)  POINT (-86.77774 36.16234)  "
      ]
     },
     "execution_count": 184,
     "metadata": {},
     "output_type": "execute_result"
    }
   ],
   "source": [
    "# Create art_dist_meters using art and the geometry from art\n",
    "art_dist_meters = gpd.GeoDataFrame(art, geometry = art.geometry, crs = {'init': 'epsg:4326'})\n",
    "art_dist_meters.head(2)\n",
    "\n"
   ]
  },
  {
   "cell_type": "code",
   "execution_count": 185,
   "metadata": {},
   "outputs": [
    {
     "data": {
      "text/html": [
       "<div>\n",
       "<style scoped>\n",
       "    .dataframe tbody tr th:only-of-type {\n",
       "        vertical-align: middle;\n",
       "    }\n",
       "\n",
       "    .dataframe tbody tr th {\n",
       "        vertical-align: top;\n",
       "    }\n",
       "\n",
       "    .dataframe thead th {\n",
       "        text-align: right;\n",
       "    }\n",
       "</style>\n",
       "<table border=\"1\" class=\"dataframe\">\n",
       "  <thead>\n",
       "    <tr style=\"text-align: right;\">\n",
       "      <th></th>\n",
       "      <th>Title</th>\n",
       "      <th>Last Name</th>\n",
       "      <th>First Name</th>\n",
       "      <th>Location</th>\n",
       "      <th>Medium</th>\n",
       "      <th>Type</th>\n",
       "      <th>Description</th>\n",
       "      <th>Latitude</th>\n",
       "      <th>Longitude</th>\n",
       "      <th>Mapped Location</th>\n",
       "      <th>geometry</th>\n",
       "    </tr>\n",
       "  </thead>\n",
       "  <tbody>\n",
       "    <tr>\n",
       "      <th>0</th>\n",
       "      <td>[Cross Country Runners]</td>\n",
       "      <td>Frost</td>\n",
       "      <td>Miley</td>\n",
       "      <td>4001 Harding Rd., Nashville TN</td>\n",
       "      <td>Bronze</td>\n",
       "      <td>Sculpture</td>\n",
       "      <td>NaN</td>\n",
       "      <td>36.12856</td>\n",
       "      <td>-86.83660</td>\n",
       "      <td>(36.12856, -86.8366)</td>\n",
       "      <td>POINT (-9666606.094 4318325.479)</td>\n",
       "    </tr>\n",
       "    <tr>\n",
       "      <th>1</th>\n",
       "      <td>[Fourth and Commerce Sculpture]</td>\n",
       "      <td>Walker</td>\n",
       "      <td>Lin</td>\n",
       "      <td>333 Commerce Street, Nashville TN</td>\n",
       "      <td>NaN</td>\n",
       "      <td>Sculpture</td>\n",
       "      <td>NaN</td>\n",
       "      <td>36.16234</td>\n",
       "      <td>-86.77774</td>\n",
       "      <td>(36.16234, -86.77774)</td>\n",
       "      <td>POINT (-9660053.829 4322982.159)</td>\n",
       "    </tr>\n",
       "  </tbody>\n",
       "</table>\n",
       "</div>"
      ],
      "text/plain": [
       "                             Title Last Name First Name  \\\n",
       "0          [Cross Country Runners]     Frost      Miley   \n",
       "1  [Fourth and Commerce Sculpture]    Walker        Lin   \n",
       "\n",
       "                            Location  Medium       Type Description  Latitude  \\\n",
       "0     4001 Harding Rd., Nashville TN  Bronze  Sculpture         NaN  36.12856   \n",
       "1  333 Commerce Street, Nashville TN     NaN  Sculpture         NaN  36.16234   \n",
       "\n",
       "   Longitude        Mapped Location                          geometry  \n",
       "0  -86.83660   (36.12856, -86.8366)  POINT (-9666606.094 4318325.479)  \n",
       "1  -86.77774  (36.16234, -86.77774)  POINT (-9660053.829 4322982.159)  "
      ]
     },
     "execution_count": 185,
     "metadata": {},
     "output_type": "execute_result"
    }
   ],
   "source": [
    "# Set the crs of art_dist_meters to use EPSG:3857\n",
    "art_dist_meters.geometry = art_dist_meters.geometry.to_crs(epsg = 3857)\n",
    "art_dist_meters.head(2)"
   ]
  },
  {
   "cell_type": "code",
   "execution_count": null,
   "metadata": {},
   "outputs": [],
   "source": [
    "# Add a column to art_meters, center\n",
    "art_dist_meters['center'] = center_point"
   ]
  },
  {
   "cell_type": "markdown",
   "metadata": {},
   "source": [
    "## Create a folium location from the urban centroid\n",
    "- In order to construct a folium map of the Urban Residents neighborhood, we need to build a coordinate pair location that is formatted for folium."
   ]
  },
  {
   "cell_type": "code",
   "execution_count": 199,
   "metadata": {},
   "outputs": [
    {
     "name": "stdout",
     "output_type": "stream",
     "text": [
      "               name                                           geometry\n",
      "41  Urban Residents  MULTIPOLYGON (((-86.78122 36.16457, -86.78205 ...\n"
     ]
    },
    {
     "name": "stderr",
     "output_type": "stream",
     "text": [
      "C:\\Users\\Shubham\\Anaconda3\\lib\\site-packages\\ipykernel_launcher.py:5: UserWarning: Geometry is in a geographic CRS. Results from 'centroid' are likely incorrect. Use 'GeoSeries.to_crs()' to re-project geometries to a projected CRS before this operation.\n",
      "\n",
      "  \"\"\"\n"
     ]
    },
    {
     "data": {
      "text/plain": [
       "41    POINT (-86.77756 36.16128)\n",
       "dtype: geometry"
      ]
     },
     "execution_count": 199,
     "metadata": {},
     "output_type": "execute_result"
    }
   ],
   "source": [
    "# Print the head of the urban_polygon\n",
    "print(urban_polygon.head())\n",
    "\n",
    "# Create urban_center from the urban_polygon center\n",
    "urban_center = urban_polygon.geometry.centroid\n",
    "\n",
    "# Print urban_center\n",
    "urban_center"
   ]
  },
  {
   "cell_type": "code",
   "execution_count": 209,
   "metadata": {},
   "outputs": [
    {
     "data": {
      "text/plain": [
       "[36.161278209287914, -86.77756457127047]"
      ]
     },
     "execution_count": 209,
     "metadata": {},
     "output_type": "execute_result"
    }
   ],
   "source": [
    "# Create array for folium called urban_location\n",
    "urban_location = [urban_center.y.values[0], urban_center.x.values[0]]\n",
    "\n",
    "# Print urban_location\n",
    "urban_location"
   ]
  },
  {
   "cell_type": "markdown",
   "metadata": {},
   "source": [
    "- Folium locations are arrays with latitude first. We just created a folium location from the center of the Urban Residents neighborhood."
   ]
  },
  {
   "cell_type": "markdown",
   "metadata": {},
   "source": [
    "### Create a folium map of downtown Nashville\n"
   ]
  },
  {
   "cell_type": "code",
   "execution_count": 213,
   "metadata": {},
   "outputs": [
    {
     "data": {
      "text/html": [
       "<div style=\"width:100%;\"><div style=\"position:relative;width:100%;height:0;padding-bottom:60%;\"><span style=\"color:#565656\">Make this Notebook Trusted to load map: File -> Trust Notebook</span><iframe src=\"about:blank\" style=\"position:absolute;width:100%;height:100%;left:0;top:0;border:none !important;\" data-html=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 onload=\"this.contentDocument.open();this.contentDocument.write(atob(this.getAttribute('data-html')));this.contentDocument.close();\" allowfullscreen webkitallowfullscreen mozallowfullscreen></iframe></div></div>"
      ],
      "text/plain": [
       "<folium.folium.Map at 0x19c1f670a90>"
      ]
     },
     "metadata": {},
     "output_type": "display_data"
    }
   ],
   "source": [
    "# Construct a folium map with urban_location\n",
    "downtown_map = folium.Map(location = urban_location, zoom_start = 15)\n",
    "\n",
    "# Display the map\n",
    "display(downtown_map)"
   ]
  },
  {
   "cell_type": "markdown",
   "metadata": {},
   "source": [
    "### Folium street map of the downtown neighborhood\n",
    "- create the folium map of downtown and add the Urban Residents neighborhood area from `urban_polygon`"
   ]
  },
  {
   "cell_type": "code",
   "execution_count": 215,
   "metadata": {},
   "outputs": [
    {
     "name": "stderr",
     "output_type": "stream",
     "text": [
      "C:\\Users\\Shubham\\Anaconda3\\lib\\site-packages\\ipykernel_launcher.py:2: UserWarning: Geometry is in a geographic CRS. Results from 'centroid' are likely incorrect. Use 'GeoSeries.to_crs()' to re-project geometries to a projected CRS before this operation.\n",
      "\n",
      "  \n"
     ]
    },
    {
     "data": {
      "text/html": [
       "<div style=\"width:100%;\"><div style=\"position:relative;width:100%;height:0;padding-bottom:60%;\"><span style=\"color:#565656\">Make this Notebook Trusted to load map: File -> Trust Notebook</span><iframe src=\"about:blank\" style=\"position:absolute;width:100%;height:100%;left:0;top:0;border:none !important;\" data-html=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 onload=\"this.contentDocument.open();this.contentDocument.write(atob(this.getAttribute('data-html')));this.contentDocument.close();\" allowfullscreen webkitallowfullscreen mozallowfullscreen></iframe></div></div>"
      ],
      "text/plain": [
       "<folium.folium.Map at 0x19c1f6828d0>"
      ]
     },
     "metadata": {},
     "output_type": "display_data"
    }
   ],
   "source": [
    "# Create array for called folium_loc from the urban_polygon center point\n",
    "point = urban_polygon.centroid\n",
    "\n",
    "folium_loc = [point.y, point.x]\n",
    "\n",
    "# Construct a map from folium_loc: downtown_map\n",
    "downtown_map = folium.Map(location = folium_loc, zoom_start = 15)\n",
    "\n",
    "# Draw our neighborhood: Urban Residents\n",
    "folium.GeoJson(urban_polygon.geometry).add_to(downtown_map)\n",
    "\n",
    "# Display the map\n",
    "display(downtown_map)"
   ]
  },
  {
   "cell_type": "code",
   "execution_count": null,
   "metadata": {},
   "outputs": [],
   "source": []
  }
 ],
 "metadata": {
  "kernelspec": {
   "display_name": "Python 3",
   "language": "python",
   "name": "python3"
  },
  "language_info": {
   "codemirror_mode": {
    "name": "ipython",
    "version": 3
   },
   "file_extension": ".py",
   "mimetype": "text/x-python",
   "name": "python",
   "nbconvert_exporter": "python",
   "pygments_lexer": "ipython3",
   "version": "3.7.3"
  }
 },
 "nbformat": 4,
 "nbformat_minor": 2
}
