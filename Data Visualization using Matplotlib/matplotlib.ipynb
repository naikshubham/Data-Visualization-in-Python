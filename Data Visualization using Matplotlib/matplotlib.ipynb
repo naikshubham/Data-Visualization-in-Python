{
 "cells": [
  {
   "cell_type": "markdown",
   "metadata": {},
   "source": [
    "### Adding data to an Axes object"
   ]
  },
  {
   "cell_type": "code",
   "execution_count": 1,
   "metadata": {},
   "outputs": [],
   "source": [
    "import pandas as pd\n",
    "import matplotlib.pyplot as plt"
   ]
  },
  {
   "cell_type": "code",
   "execution_count": 38,
   "metadata": {},
   "outputs": [
    {
     "data": {
      "text/html": [
       "<div>\n",
       "<style scoped>\n",
       "    .dataframe tbody tr th:only-of-type {\n",
       "        vertical-align: middle;\n",
       "    }\n",
       "\n",
       "    .dataframe tbody tr th {\n",
       "        vertical-align: top;\n",
       "    }\n",
       "\n",
       "    .dataframe thead th {\n",
       "        text-align: right;\n",
       "    }\n",
       "</style>\n",
       "<table border=\"1\" class=\"dataframe\">\n",
       "  <thead>\n",
       "    <tr style=\"text-align: right;\">\n",
       "      <th></th>\n",
       "      <th>STATION</th>\n",
       "      <th>NAME</th>\n",
       "      <th>MLY-CLDD-BASE45</th>\n",
       "      <th>MLY-CLDD-BASE50</th>\n",
       "      <th>MLY-CLDD-BASE55</th>\n",
       "      <th>MLY-CLDD-BASE57</th>\n",
       "      <th>MLY-CLDD-BASE60</th>\n",
       "      <th>MLY-CLDD-BASE70</th>\n",
       "      <th>MLY-CLDD-BASE72</th>\n",
       "      <th>MLY-CLDD-NORMAL</th>\n",
       "      <th>...</th>\n",
       "      <th>MLY-TMIN-AVGNDS-LSTH070</th>\n",
       "      <th>MLY-TMIN-NORMAL</th>\n",
       "      <th>MLY-TMIN-PRBOCC-LSTH016</th>\n",
       "      <th>MLY-TMIN-PRBOCC-LSTH020</th>\n",
       "      <th>MLY-TMIN-PRBOCC-LSTH024</th>\n",
       "      <th>MLY-TMIN-PRBOCC-LSTH028</th>\n",
       "      <th>MLY-TMIN-PRBOCC-LSTH032</th>\n",
       "      <th>MLY-TMIN-PRBOCC-LSTH036</th>\n",
       "      <th>MLY-TMIN-STDDEV</th>\n",
       "      <th>MONTH</th>\n",
       "    </tr>\n",
       "    <tr>\n",
       "      <th>DATE</th>\n",
       "      <th></th>\n",
       "      <th></th>\n",
       "      <th></th>\n",
       "      <th></th>\n",
       "      <th></th>\n",
       "      <th></th>\n",
       "      <th></th>\n",
       "      <th></th>\n",
       "      <th></th>\n",
       "      <th></th>\n",
       "      <th></th>\n",
       "      <th></th>\n",
       "      <th></th>\n",
       "      <th></th>\n",
       "      <th></th>\n",
       "      <th></th>\n",
       "      <th></th>\n",
       "      <th></th>\n",
       "      <th></th>\n",
       "      <th></th>\n",
       "      <th></th>\n",
       "    </tr>\n",
       "  </thead>\n",
       "  <tbody>\n",
       "    <tr>\n",
       "      <th>1</th>\n",
       "      <td>USW00094290</td>\n",
       "      <td>SEATTLE SAND PT WSFO, WA US</td>\n",
       "      <td>27.0</td>\n",
       "      <td>3.0</td>\n",
       "      <td>-7777.0</td>\n",
       "      <td>-7777.0</td>\n",
       "      <td>0.0</td>\n",
       "      <td>0.0</td>\n",
       "      <td>0.0</td>\n",
       "      <td>0.0</td>\n",
       "      <td>...</td>\n",
       "      <td>310.0</td>\n",
       "      <td>37.0</td>\n",
       "      <td>64.0</td>\n",
       "      <td>129.0</td>\n",
       "      <td>317.0</td>\n",
       "      <td>709.0</td>\n",
       "      <td>959.0</td>\n",
       "      <td>1000.0</td>\n",
       "      <td>2.3</td>\n",
       "      <td>Jan</td>\n",
       "    </tr>\n",
       "    <tr>\n",
       "      <th>2</th>\n",
       "      <td>USW00094290</td>\n",
       "      <td>SEATTLE SAND PT WSFO, WA US</td>\n",
       "      <td>31.0</td>\n",
       "      <td>3.0</td>\n",
       "      <td>-7777.0</td>\n",
       "      <td>-7777.0</td>\n",
       "      <td>0.0</td>\n",
       "      <td>0.0</td>\n",
       "      <td>0.0</td>\n",
       "      <td>0.0</td>\n",
       "      <td>...</td>\n",
       "      <td>280.0</td>\n",
       "      <td>36.9</td>\n",
       "      <td>15.0</td>\n",
       "      <td>76.0</td>\n",
       "      <td>273.0</td>\n",
       "      <td>616.0</td>\n",
       "      <td>917.0</td>\n",
       "      <td>1000.0</td>\n",
       "      <td>2.6</td>\n",
       "      <td>Feb</td>\n",
       "    </tr>\n",
       "    <tr>\n",
       "      <th>3</th>\n",
       "      <td>USW00094290</td>\n",
       "      <td>SEATTLE SAND PT WSFO, WA US</td>\n",
       "      <td>81.0</td>\n",
       "      <td>16.0</td>\n",
       "      <td>2.0</td>\n",
       "      <td>-7777.0</td>\n",
       "      <td>-7777.0</td>\n",
       "      <td>0.0</td>\n",
       "      <td>0.0</td>\n",
       "      <td>0.0</td>\n",
       "      <td>...</td>\n",
       "      <td>310.0</td>\n",
       "      <td>39.3</td>\n",
       "      <td>0.0</td>\n",
       "      <td>20.0</td>\n",
       "      <td>41.0</td>\n",
       "      <td>152.0</td>\n",
       "      <td>670.0</td>\n",
       "      <td>986.0</td>\n",
       "      <td>1.8</td>\n",
       "      <td>Mar</td>\n",
       "    </tr>\n",
       "    <tr>\n",
       "      <th>4</th>\n",
       "      <td>USW00094290</td>\n",
       "      <td>SEATTLE SAND PT WSFO, WA US</td>\n",
       "      <td>169.0</td>\n",
       "      <td>58.0</td>\n",
       "      <td>12.0</td>\n",
       "      <td>6.0</td>\n",
       "      <td>1.0</td>\n",
       "      <td>0.0</td>\n",
       "      <td>0.0</td>\n",
       "      <td>-7777.0</td>\n",
       "      <td>...</td>\n",
       "      <td>300.0</td>\n",
       "      <td>42.5</td>\n",
       "      <td>0.0</td>\n",
       "      <td>0.0</td>\n",
       "      <td>0.0</td>\n",
       "      <td>0.0</td>\n",
       "      <td>114.0</td>\n",
       "      <td>711.0</td>\n",
       "      <td>1.5</td>\n",
       "      <td>Apr</td>\n",
       "    </tr>\n",
       "    <tr>\n",
       "      <th>5</th>\n",
       "      <td>USW00094290</td>\n",
       "      <td>SEATTLE SAND PT WSFO, WA US</td>\n",
       "      <td>343.0</td>\n",
       "      <td>193.0</td>\n",
       "      <td>78.0</td>\n",
       "      <td>49.0</td>\n",
       "      <td>21.0</td>\n",
       "      <td>-7777.0</td>\n",
       "      <td>-7777.0</td>\n",
       "      <td>3.0</td>\n",
       "      <td>...</td>\n",
       "      <td>310.0</td>\n",
       "      <td>47.8</td>\n",
       "      <td>0.0</td>\n",
       "      <td>0.0</td>\n",
       "      <td>0.0</td>\n",
       "      <td>0.0</td>\n",
       "      <td>0.0</td>\n",
       "      <td>58.0</td>\n",
       "      <td>1.9</td>\n",
       "      <td>May</td>\n",
       "    </tr>\n",
       "  </tbody>\n",
       "</table>\n",
       "<p>5 rows × 80 columns</p>\n",
       "</div>"
      ],
      "text/plain": [
       "          STATION                         NAME  MLY-CLDD-BASE45  \\\n",
       "DATE                                                              \n",
       "1     USW00094290  SEATTLE SAND PT WSFO, WA US             27.0   \n",
       "2     USW00094290  SEATTLE SAND PT WSFO, WA US             31.0   \n",
       "3     USW00094290  SEATTLE SAND PT WSFO, WA US             81.0   \n",
       "4     USW00094290  SEATTLE SAND PT WSFO, WA US            169.0   \n",
       "5     USW00094290  SEATTLE SAND PT WSFO, WA US            343.0   \n",
       "\n",
       "      MLY-CLDD-BASE50  MLY-CLDD-BASE55  MLY-CLDD-BASE57  MLY-CLDD-BASE60  \\\n",
       "DATE                                                                       \n",
       "1                 3.0          -7777.0          -7777.0              0.0   \n",
       "2                 3.0          -7777.0          -7777.0              0.0   \n",
       "3                16.0              2.0          -7777.0          -7777.0   \n",
       "4                58.0             12.0              6.0              1.0   \n",
       "5               193.0             78.0             49.0             21.0   \n",
       "\n",
       "      MLY-CLDD-BASE70  MLY-CLDD-BASE72  MLY-CLDD-NORMAL  ...  \\\n",
       "DATE                                                     ...   \n",
       "1                 0.0              0.0              0.0  ...   \n",
       "2                 0.0              0.0              0.0  ...   \n",
       "3                 0.0              0.0              0.0  ...   \n",
       "4                 0.0              0.0          -7777.0  ...   \n",
       "5             -7777.0          -7777.0              3.0  ...   \n",
       "\n",
       "      MLY-TMIN-AVGNDS-LSTH070  MLY-TMIN-NORMAL  MLY-TMIN-PRBOCC-LSTH016  \\\n",
       "DATE                                                                      \n",
       "1                       310.0             37.0                     64.0   \n",
       "2                       280.0             36.9                     15.0   \n",
       "3                       310.0             39.3                      0.0   \n",
       "4                       300.0             42.5                      0.0   \n",
       "5                       310.0             47.8                      0.0   \n",
       "\n",
       "      MLY-TMIN-PRBOCC-LSTH020  MLY-TMIN-PRBOCC-LSTH024  \\\n",
       "DATE                                                     \n",
       "1                       129.0                    317.0   \n",
       "2                        76.0                    273.0   \n",
       "3                        20.0                     41.0   \n",
       "4                         0.0                      0.0   \n",
       "5                         0.0                      0.0   \n",
       "\n",
       "      MLY-TMIN-PRBOCC-LSTH028  MLY-TMIN-PRBOCC-LSTH032  \\\n",
       "DATE                                                     \n",
       "1                       709.0                    959.0   \n",
       "2                       616.0                    917.0   \n",
       "3                       152.0                    670.0   \n",
       "4                         0.0                    114.0   \n",
       "5                         0.0                      0.0   \n",
       "\n",
       "      MLY-TMIN-PRBOCC-LSTH036  MLY-TMIN-STDDEV  MONTH  \n",
       "DATE                                                   \n",
       "1                      1000.0              2.3    Jan  \n",
       "2                      1000.0              2.6    Feb  \n",
       "3                       986.0              1.8    Mar  \n",
       "4                       711.0              1.5    Apr  \n",
       "5                        58.0              1.9    May  \n",
       "\n",
       "[5 rows x 80 columns]"
      ]
     },
     "execution_count": 38,
     "metadata": {},
     "output_type": "execute_result"
    }
   ],
   "source": [
    "months = {1:'Jan',2:'Feb',3:'Mar',4:'Apr',5:'May',6:'Jun',7:'Jul',8:'Aug', 9:'Sep',10:'Oct',11:'Nov',12:'Dec'}\n",
    "\n",
    "seattle_weather = pd.read_csv('data/seattle_weather.csv')\n",
    "austin_weather = pd.read_csv('data/austin_weather.csv')\n",
    "seattle_weather['MONTH'] = seattle_weather['DATE'].replace(months)\n",
    "austin_weather['MONTH'] = austin_weather['DATE'].replace(months)\n",
    "seattle_weather = seattle_weather.set_index('DATE')\n",
    "austin_weather = austin_weather.set_index('DATE')\n",
    "\n",
    "seattle_weather = seattle_weather[seattle_weather['STATION'] == 'USW00094290']\n",
    "austin_weather = austin_weather[austin_weather['STATION'] == 'USW00013904']\n",
    "\n",
    "seattle_weather.head()"
   ]
  },
  {
   "cell_type": "code",
   "execution_count": 39,
   "metadata": {},
   "outputs": [
    {
     "data": {
      "text/plain": [
       "[<matplotlib.lines.Line2D at 0x15b57f59400>]"
      ]
     },
     "execution_count": 39,
     "metadata": {},
     "output_type": "execute_result"
    },
    {
     "data": {
      "image/png": "[encoded data removed]",
      "text/plain": [
       "<Figure size 432x288 with 1 Axes>"
      ]
     },
     "metadata": {
      "needs_background": "light"
     },
     "output_type": "display_data"
    }
   ],
   "source": [
    "# Create a Figure and an Axes with plt.subplots\n",
    "fig, ax = plt.subplots()\n",
    "\n",
    "# Plot MLY-PRCP-NORMAL from seattle_weather against the MONTH\n",
    "ax.plot(seattle_weather[\"MONTH\"], seattle_weather['MLY-PRCP-NORMAL'])\n",
    "\n",
    "# Plot MLY-PRCP-NORMAL from austin_weather against MONTH\n",
    "ax.plot(austin_weather['MONTH'], austin_weather['MLY-PRCP-NORMAL'])\n",
    "\n",
    "# Call the show function\n",
    "plt.show()"
   ]
  },
  {
   "cell_type": "markdown",
   "metadata": {},
   "source": [
    "### Customizing data appearance"
   ]
  },
  {
   "cell_type": "code",
   "execution_count": 43,
   "metadata": {},
   "outputs": [
    {
     "data": {
      "image/png": "[encoded data removed]",
      "text/plain": [
       "<Figure size 432x288 with 1 Axes>"
      ]
     },
     "metadata": {
      "needs_background": "light"
     },
     "output_type": "display_data"
    }
   ],
   "source": [
    "fig, ax = plt.subplots()\n",
    "\n",
    "# Plot Seattle data, setting data appearance\n",
    "ax.plot(seattle_weather[\"MONTH\"], seattle_weather[\"MLY-PRCP-NORMAL\"], color='b',marker='o', linestyle='--')\n",
    "\n",
    "# Plot Austin data, setting data appearance\n",
    "ax.plot(austin_weather[\"MONTH\"], austin_weather[\"MLY-PRCP-NORMAL\"], color='r',marker='v',linestyle='--')\n",
    "\n",
    "# Customize the x-axis label\n",
    "ax.set_xlabel(\"Time (months)\")\n",
    "\n",
    "# Customize the y-axis label\n",
    "ax.set_ylabel(\"Precipitation (inches)\")\n",
    "\n",
    "# Add the title\n",
    "ax.set_title(\"Weather patterns in Austin and Seattle\")\n",
    "\n",
    "# Call show to display the resulting plot\n",
    "plt.show()"
   ]
  },
  {
   "cell_type": "markdown",
   "metadata": {},
   "source": [
    "### Creating small multiples with plt.subplots"
   ]
  },
  {
   "cell_type": "code",
   "execution_count": 44,
   "metadata": {},
   "outputs": [
    {
     "data": {
      "image/png": "[encoded data removed]",
      "text/plain": [
       "<Figure size 432x288 with 4 Axes>"
      ]
     },
     "metadata": {
      "needs_background": "light"
     },
     "output_type": "display_data"
    }
   ],
   "source": [
    "# Create a Figure and an array of subplots with 2 rows and 2 columns\n",
    "fig, ax = plt.subplots(2, 2)\n",
    "\n",
    "# Addressing the top left Axes as index 0, 0, plot month and Seattle precipitation\n",
    "ax[0, 0].plot(seattle_weather['MONTH'], seattle_weather['MLY-PRCP-NORMAL'])\n",
    "\n",
    "# In the top right (index 0,1), plot month and Seattle temperatures\n",
    "ax[0, 1].plot(seattle_weather['MONTH'], seattle_weather['MLY-TAVG-NORMAL'])\n",
    "\n",
    "# In the bottom left (1, 0) plot month and Austin precipitations\n",
    "ax[1,0].plot(austin_weather['MONTH'], austin_weather['MLY-PRCP-NORMAL'])\n",
    "\n",
    "# In the bottom right (1, 1) plot month and Austin temperatures\n",
    "ax[1,1].plot(austin_weather['MONTH'], austin_weather['MLY-TAVG-NORMAL'])\n",
    "plt.show()"
   ]
  },
  {
   "cell_type": "markdown",
   "metadata": {},
   "source": [
    "#### Small multiples with shared y axis\n",
    "- When creating small multiples, it is often preferable to make sure that the different plots are displayed with the same scale used on the y-axis. This can be configured by setting the sharey key-word to True"
   ]
  },
  {
   "cell_type": "code",
   "execution_count": null,
   "metadata": {},
   "outputs": [],
   "source": []
  }
 ],
 "metadata": {
  "kernelspec": {
   "display_name": "Python 3",
   "language": "python",
   "name": "python3"
  },
  "language_info": {
   "codemirror_mode": {
    "name": "ipython",
    "version": 3
   },
   "file_extension": ".py",
   "mimetype": "text/x-python",
   "name": "python",
   "nbconvert_exporter": "python",
   "pygments_lexer": "ipython3",
   "version": "3.7.3"
  }
 },
 "nbformat": 4,
 "nbformat_minor": 2
}
