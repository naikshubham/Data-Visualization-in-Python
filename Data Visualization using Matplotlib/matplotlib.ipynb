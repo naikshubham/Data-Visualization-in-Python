{
 "cells": [
  {
   "cell_type": "markdown",
   "metadata": {},
   "source": [
    "### Using the matplotlib.pyplot interface\n",
    "- There are many ways to use Matplotlib. We will focus on the pyplot interface, which provides the most flexibility in creating and customizing data visualizations.\n",
    "import matplotlib.pyplot  as plt\n",
    "\n",
    "#### Create a Figure and an Axes with plt.subplots\n",
    "fig, ax = plt.subplots()\n",
    "\n",
    "#### Call the show function to show the result\n",
    "plt.show()"
   ]
  },
  {
   "cell_type": "code",
   "execution_count": null,
   "metadata": {},
   "outputs": [],
   "source": []
  }
 ],
 "metadata": {
  "kernelspec": {
   "display_name": "Python 3",
   "language": "python",
   "name": "python3"
  },
  "language_info": {
   "codemirror_mode": {
    "name": "ipython",
    "version": 3
   },
   "file_extension": ".py",
   "mimetype": "text/x-python",
   "name": "python",
   "nbconvert_exporter": "python",
   "pygments_lexer": "ipython3",
   "version": "3.7.3"
  }
 },
 "nbformat": 4,
 "nbformat_minor": 2
}
