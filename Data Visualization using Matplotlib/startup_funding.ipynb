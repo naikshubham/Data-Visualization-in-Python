{
 "cells": [
  {
   "cell_type": "code",
   "execution_count": 293,
   "metadata": {},
   "outputs": [],
   "source": [
    "import pandas as pd\n",
    "import matplotlib.pyplot as plt\n",
    "import numpy as np\n",
    "import matplotlib\n",
    "from statsmodels.tsa.seasonal import seasonal_decompose\n",
    "matplotlib.rcParams['figure.figsize'] = [15.0, 6.0]"
   ]
  },
  {
   "cell_type": "code",
   "execution_count": 294,
   "metadata": {},
   "outputs": [
    {
     "data": {
      "text/html": [
       "<div>\n",
       "<style scoped>\n",
       "    .dataframe tbody tr th:only-of-type {\n",
       "        vertical-align: middle;\n",
       "    }\n",
       "\n",
       "    .dataframe tbody tr th {\n",
       "        vertical-align: top;\n",
       "    }\n",
       "\n",
       "    .dataframe thead th {\n",
       "        text-align: right;\n",
       "    }\n",
       "</style>\n",
       "<table border=\"1\" class=\"dataframe\">\n",
       "  <thead>\n",
       "    <tr style=\"text-align: right;\">\n",
       "      <th></th>\n",
       "      <th>SNo</th>\n",
       "      <th>Date</th>\n",
       "      <th>StartupName</th>\n",
       "      <th>IndustryVertical</th>\n",
       "      <th>SubVertical</th>\n",
       "      <th>CityLocation</th>\n",
       "      <th>InvestorsName</th>\n",
       "      <th>InvestmentType</th>\n",
       "      <th>AmountInUSD</th>\n",
       "      <th>Remarks</th>\n",
       "    </tr>\n",
       "  </thead>\n",
       "  <tbody>\n",
       "    <tr>\n",
       "      <th>0</th>\n",
       "      <td>0</td>\n",
       "      <td>01/08/2017</td>\n",
       "      <td>TouchKin</td>\n",
       "      <td>Technology</td>\n",
       "      <td>Predictive Care Platform</td>\n",
       "      <td>Bangalore</td>\n",
       "      <td>Kae Capital</td>\n",
       "      <td>Private Equity</td>\n",
       "      <td>1,300,000</td>\n",
       "      <td>NaN</td>\n",
       "    </tr>\n",
       "    <tr>\n",
       "      <th>1</th>\n",
       "      <td>1</td>\n",
       "      <td>02/08/2017</td>\n",
       "      <td>Ethinos</td>\n",
       "      <td>Technology</td>\n",
       "      <td>Digital Marketing Agency</td>\n",
       "      <td>Mumbai</td>\n",
       "      <td>Triton Investment Advisors</td>\n",
       "      <td>Private Equity</td>\n",
       "      <td>NaN</td>\n",
       "      <td>NaN</td>\n",
       "    </tr>\n",
       "    <tr>\n",
       "      <th>2</th>\n",
       "      <td>2</td>\n",
       "      <td>02/08/2017</td>\n",
       "      <td>Leverage Edu</td>\n",
       "      <td>Consumer Internet</td>\n",
       "      <td>Online platform for Higher Education Services</td>\n",
       "      <td>New Delhi</td>\n",
       "      <td>Kashyap Deorah, Anand Sankeshwar, Deepak Jain,...</td>\n",
       "      <td>Seed Funding</td>\n",
       "      <td>NaN</td>\n",
       "      <td>NaN</td>\n",
       "    </tr>\n",
       "  </tbody>\n",
       "</table>\n",
       "</div>"
      ],
      "text/plain": [
       "   SNo        Date   StartupName   IndustryVertical  \\\n",
       "0    0  01/08/2017      TouchKin         Technology   \n",
       "1    1  02/08/2017       Ethinos         Technology   \n",
       "2    2  02/08/2017  Leverage Edu  Consumer Internet   \n",
       "\n",
       "                                     SubVertical CityLocation  \\\n",
       "0                       Predictive Care Platform    Bangalore   \n",
       "1                       Digital Marketing Agency       Mumbai   \n",
       "2  Online platform for Higher Education Services    New Delhi   \n",
       "\n",
       "                                       InvestorsName  InvestmentType  \\\n",
       "0                                        Kae Capital  Private Equity   \n",
       "1                         Triton Investment Advisors  Private Equity   \n",
       "2  Kashyap Deorah, Anand Sankeshwar, Deepak Jain,...    Seed Funding   \n",
       "\n",
       "  AmountInUSD Remarks  \n",
       "0   1,300,000     NaN  \n",
       "1         NaN     NaN  \n",
       "2         NaN     NaN  "
      ]
     },
     "execution_count": 294,
     "metadata": {},
     "output_type": "execute_result"
    }
   ],
   "source": [
    "startup_funding = pd.read_csv('../startup_funding.csv')\n",
    "startup_funding.head(3)"
   ]
  },
  {
   "cell_type": "markdown",
   "metadata": {},
   "source": [
    "#### Check for missing values"
   ]
  },
  {
   "cell_type": "code",
   "execution_count": 295,
   "metadata": {},
   "outputs": [
    {
     "data": {
      "text/plain": [
       "SNo                    0\n",
       "Date                   0\n",
       "StartupName            0\n",
       "IndustryVertical     171\n",
       "SubVertical          936\n",
       "CityLocation         179\n",
       "InvestorsName          8\n",
       "InvestmentType         1\n",
       "AmountInUSD          847\n",
       "Remarks             1953\n",
       "dtype: int64"
      ]
     },
     "execution_count": 295,
     "metadata": {},
     "output_type": "execute_result"
    }
   ],
   "source": [
    "startup_funding.isna().sum()"
   ]
  },
  {
   "cell_type": "markdown",
   "metadata": {},
   "source": [
    "#### Impute missing values in AmountInUSD with median of the column"
   ]
  },
  {
   "cell_type": "code",
   "execution_count": 296,
   "metadata": {},
   "outputs": [
    {
     "data": {
      "text/plain": [
       "0       1300000\n",
       "1       1070000\n",
       "2       1070000\n",
       "3        500000\n",
       "4        850000\n",
       "         ...   \n",
       "2367    4500000\n",
       "2368     825000\n",
       "2369    1500000\n",
       "2370    1070000\n",
       "2371     140000\n",
       "Name: AmountInUSD, Length: 2372, dtype: int32"
      ]
     },
     "execution_count": 296,
     "metadata": {},
     "output_type": "execute_result"
    }
   ],
   "source": [
    "startup_funding['AmountInUSD'] = startup_funding['AmountInUSD'].astype(str)\n",
    "startup_funding['AmountInUSD'] = startup_funding['AmountInUSD'].apply(lambda x:x.replace(',',''))\n",
    "startup_funding['AmountInUSD'] = startup_funding['AmountInUSD'].astype('float')\n",
    "startup_funding.AmountInUSD = pd.to_numeric(startup_funding.AmountInUSD)\n",
    "startup_funding['AmountInUSD'].fillna((startup_funding['AmountInUSD'].median()), inplace=True)\n",
    "startup_funding.AmountInUSD = pd.to_numeric(startup_funding.AmountInUSD).astype('int')\n",
    "startup_funding.AmountInUSD"
   ]
  },
  {
   "cell_type": "markdown",
   "metadata": {},
   "source": [
    "#### Check missing values count"
   ]
  },
  {
   "cell_type": "code",
   "execution_count": 297,
   "metadata": {},
   "outputs": [
    {
     "data": {
      "text/plain": [
       "SNo                    0\n",
       "Date                   0\n",
       "StartupName            0\n",
       "IndustryVertical     171\n",
       "SubVertical          936\n",
       "CityLocation         179\n",
       "InvestorsName          8\n",
       "InvestmentType         1\n",
       "AmountInUSD            0\n",
       "Remarks             1953\n",
       "dtype: int64"
      ]
     },
     "execution_count": 297,
     "metadata": {},
     "output_type": "execute_result"
    }
   ],
   "source": [
    "startup_funding.isna().sum()"
   ]
  },
  {
   "cell_type": "code",
   "execution_count": 298,
   "metadata": {},
   "outputs": [
    {
     "name": "stdout",
     "output_type": "stream",
     "text": [
      "<class 'pandas.core.frame.DataFrame'>\n",
      "RangeIndex: 2372 entries, 0 to 2371\n",
      "Data columns (total 10 columns):\n",
      " #   Column            Non-Null Count  Dtype \n",
      "---  ------            --------------  ----- \n",
      " 0   SNo               2372 non-null   int64 \n",
      " 1   Date              2372 non-null   object\n",
      " 2   StartupName       2372 non-null   object\n",
      " 3   IndustryVertical  2201 non-null   object\n",
      " 4   SubVertical       1436 non-null   object\n",
      " 5   CityLocation      2193 non-null   object\n",
      " 6   InvestorsName     2364 non-null   object\n",
      " 7   InvestmentType    2371 non-null   object\n",
      " 8   AmountInUSD       2372 non-null   int32 \n",
      " 9   Remarks           419 non-null    object\n",
      "dtypes: int32(1), int64(1), object(8)\n",
      "memory usage: 176.2+ KB\n"
     ]
    }
   ],
   "source": [
    "startup_funding.info()"
   ]
  },
  {
   "cell_type": "markdown",
   "metadata": {},
   "source": [
    "#### Treat and Convert Date column data type to datetime"
   ]
  },
  {
   "cell_type": "code",
   "execution_count": 299,
   "metadata": {},
   "outputs": [],
   "source": [
    "\n",
    "for i in range(len(startup_funding)):\n",
    "    count_slash = startup_funding.loc[i, 'Date'].count('/')\n",
    "    if count_slash != 2:\n",
    "\n",
    "        if '.' in startup_funding.loc[i,'Date']:\n",
    "            startup_funding.loc[i,'Date'] = startup_funding.loc[i,'Date'].replace('.', '/')\n",
    "\n",
    "        if '//' in startup_funding.loc[i,'Date']:\n",
    "            startup_funding.loc[i,'Date'] = startup_funding.loc[i,'Date'].replace('//', '/')\n",
    "\n",
    "\n",
    "startup_funding.Date = pd.to_datetime(startup_funding.Date.apply(str))"
   ]
  },
  {
   "cell_type": "code",
   "execution_count": 300,
   "metadata": {},
   "outputs": [
    {
     "data": {
      "text/html": [
       "<div>\n",
       "<style scoped>\n",
       "    .dataframe tbody tr th:only-of-type {\n",
       "        vertical-align: middle;\n",
       "    }\n",
       "\n",
       "    .dataframe tbody tr th {\n",
       "        vertical-align: top;\n",
       "    }\n",
       "\n",
       "    .dataframe thead th {\n",
       "        text-align: right;\n",
       "    }\n",
       "</style>\n",
       "<table border=\"1\" class=\"dataframe\">\n",
       "  <thead>\n",
       "    <tr style=\"text-align: right;\">\n",
       "      <th></th>\n",
       "      <th>SNo</th>\n",
       "      <th>StartupName</th>\n",
       "      <th>IndustryVertical</th>\n",
       "      <th>SubVertical</th>\n",
       "      <th>CityLocation</th>\n",
       "      <th>InvestorsName</th>\n",
       "      <th>InvestmentType</th>\n",
       "      <th>AmountInUSD</th>\n",
       "      <th>Remarks</th>\n",
       "    </tr>\n",
       "    <tr>\n",
       "      <th>Date</th>\n",
       "      <th></th>\n",
       "      <th></th>\n",
       "      <th></th>\n",
       "      <th></th>\n",
       "      <th></th>\n",
       "      <th></th>\n",
       "      <th></th>\n",
       "      <th></th>\n",
       "      <th></th>\n",
       "    </tr>\n",
       "  </thead>\n",
       "  <tbody>\n",
       "    <tr>\n",
       "      <th>2015-01-05</th>\n",
       "      <td>2080</td>\n",
       "      <td>Foodpanda</td>\n",
       "      <td>Online Food Delivery</td>\n",
       "      <td>NaN</td>\n",
       "      <td>Gurgaon</td>\n",
       "      <td>Goldman Sachs, Rocket Internet</td>\n",
       "      <td>Private Equity</td>\n",
       "      <td>100000000</td>\n",
       "      <td>Series D</td>\n",
       "    </tr>\n",
       "    <tr>\n",
       "      <th>2015-01-05</th>\n",
       "      <td>2081</td>\n",
       "      <td>Termsheet</td>\n",
       "      <td>Fund Raising Platform</td>\n",
       "      <td>NaN</td>\n",
       "      <td>Chennai</td>\n",
       "      <td>Anand Vijay, Nipun Dureja, Satyajit Heeralal, ...</td>\n",
       "      <td>Seed Funding</td>\n",
       "      <td>100000</td>\n",
       "      <td>NaN</td>\n",
       "    </tr>\n",
       "  </tbody>\n",
       "</table>\n",
       "</div>"
      ],
      "text/plain": [
       "             SNo StartupName       IndustryVertical SubVertical CityLocation  \\\n",
       "Date                                                                           \n",
       "2015-01-05  2080   Foodpanda   Online Food Delivery         NaN      Gurgaon   \n",
       "2015-01-05  2081   Termsheet  Fund Raising Platform         NaN      Chennai   \n",
       "\n",
       "                                                InvestorsName  InvestmentType  \\\n",
       "Date                                                                            \n",
       "2015-01-05                     Goldman Sachs, Rocket Internet  Private Equity   \n",
       "2015-01-05  Anand Vijay, Nipun Dureja, Satyajit Heeralal, ...    Seed Funding   \n",
       "\n",
       "            AmountInUSD   Remarks  \n",
       "Date                               \n",
       "2015-01-05    100000000  Series D  \n",
       "2015-01-05       100000       NaN  "
      ]
     },
     "execution_count": 300,
     "metadata": {},
     "output_type": "execute_result"
    }
   ],
   "source": [
    "# convert date column to index\n",
    "\n",
    "startup_funding = startup_funding.set_index('Date')\n",
    "startup_funding = startup_funding.sort_index()\n",
    "startup_funding.head(2)"
   ]
  },
  {
   "cell_type": "markdown",
   "metadata": {},
   "source": [
    "#### Create additional columns Month, Year and Date "
   ]
  },
  {
   "cell_type": "code",
   "execution_count": 301,
   "metadata": {},
   "outputs": [
    {
     "data": {
      "text/html": [
       "<div>\n",
       "<style scoped>\n",
       "    .dataframe tbody tr th:only-of-type {\n",
       "        vertical-align: middle;\n",
       "    }\n",
       "\n",
       "    .dataframe tbody tr th {\n",
       "        vertical-align: top;\n",
       "    }\n",
       "\n",
       "    .dataframe thead th {\n",
       "        text-align: right;\n",
       "    }\n",
       "</style>\n",
       "<table border=\"1\" class=\"dataframe\">\n",
       "  <thead>\n",
       "    <tr style=\"text-align: right;\">\n",
       "      <th></th>\n",
       "      <th>SNo</th>\n",
       "      <th>StartupName</th>\n",
       "      <th>IndustryVertical</th>\n",
       "      <th>SubVertical</th>\n",
       "      <th>CityLocation</th>\n",
       "      <th>InvestorsName</th>\n",
       "      <th>InvestmentType</th>\n",
       "      <th>AmountInUSD</th>\n",
       "      <th>Remarks</th>\n",
       "      <th>day</th>\n",
       "      <th>month</th>\n",
       "      <th>year</th>\n",
       "    </tr>\n",
       "    <tr>\n",
       "      <th>Date</th>\n",
       "      <th></th>\n",
       "      <th></th>\n",
       "      <th></th>\n",
       "      <th></th>\n",
       "      <th></th>\n",
       "      <th></th>\n",
       "      <th></th>\n",
       "      <th></th>\n",
       "      <th></th>\n",
       "      <th></th>\n",
       "      <th></th>\n",
       "      <th></th>\n",
       "    </tr>\n",
       "  </thead>\n",
       "  <tbody>\n",
       "    <tr>\n",
       "      <th>2015-01-05</th>\n",
       "      <td>2080</td>\n",
       "      <td>Foodpanda</td>\n",
       "      <td>Online Food Delivery</td>\n",
       "      <td>NaN</td>\n",
       "      <td>Gurgaon</td>\n",
       "      <td>Goldman Sachs, Rocket Internet</td>\n",
       "      <td>Private Equity</td>\n",
       "      <td>100000000</td>\n",
       "      <td>Series D</td>\n",
       "      <td>5</td>\n",
       "      <td>1</td>\n",
       "      <td>2015</td>\n",
       "    </tr>\n",
       "    <tr>\n",
       "      <th>2015-01-05</th>\n",
       "      <td>2081</td>\n",
       "      <td>Termsheet</td>\n",
       "      <td>Fund Raising Platform</td>\n",
       "      <td>NaN</td>\n",
       "      <td>Chennai</td>\n",
       "      <td>Anand Vijay, Nipun Dureja, Satyajit Heeralal, ...</td>\n",
       "      <td>Seed Funding</td>\n",
       "      <td>100000</td>\n",
       "      <td>NaN</td>\n",
       "      <td>5</td>\n",
       "      <td>1</td>\n",
       "      <td>2015</td>\n",
       "    </tr>\n",
       "  </tbody>\n",
       "</table>\n",
       "</div>"
      ],
      "text/plain": [
       "             SNo StartupName       IndustryVertical SubVertical CityLocation  \\\n",
       "Date                                                                           \n",
       "2015-01-05  2080   Foodpanda   Online Food Delivery         NaN      Gurgaon   \n",
       "2015-01-05  2081   Termsheet  Fund Raising Platform         NaN      Chennai   \n",
       "\n",
       "                                                InvestorsName  InvestmentType  \\\n",
       "Date                                                                            \n",
       "2015-01-05                     Goldman Sachs, Rocket Internet  Private Equity   \n",
       "2015-01-05  Anand Vijay, Nipun Dureja, Satyajit Heeralal, ...    Seed Funding   \n",
       "\n",
       "            AmountInUSD   Remarks  day  month  year  \n",
       "Date                                                 \n",
       "2015-01-05    100000000  Series D    5      1  2015  \n",
       "2015-01-05       100000       NaN    5      1  2015  "
      ]
     },
     "execution_count": 301,
     "metadata": {},
     "output_type": "execute_result"
    }
   ],
   "source": [
    "startup_funding['day'] = startup_funding.index.day\n",
    "startup_funding['month'] = startup_funding.index.month\n",
    "startup_funding['year'] = startup_funding.index.year\n",
    "startup_funding.head(2)"
   ]
  },
  {
   "cell_type": "markdown",
   "metadata": {},
   "source": [
    "#### Total number of fundings done in each year."
   ]
  },
  {
   "cell_type": "code",
   "execution_count": 302,
   "metadata": {},
   "outputs": [
    {
     "data": {
      "text/plain": [
       "year\n",
       "2015    936\n",
       "2016    993\n",
       "2017    443\n",
       "Name: AmountInUSD, dtype: int64"
      ]
     },
     "execution_count": 302,
     "metadata": {},
     "output_type": "execute_result"
    }
   ],
   "source": [
    "total_fundings_year = startup_funding.groupby('year').count()['AmountInUSD']\n",
    "total_fundings_year.head()"
   ]
  },
  {
   "cell_type": "markdown",
   "metadata": {},
   "source": [
    "### Plot a line graph between year and number of fundings. Take year on x-axis and number of fundings on y-axis"
   ]
  },
  {
   "cell_type": "code",
   "execution_count": 303,
   "metadata": {},
   "outputs": [
    {
     "data": {
      "image/png": "[encoded data removed]",
      "text/plain": [
       "<Figure size 1080x432 with 1 Axes>"
      ]
     },
     "metadata": {
      "needs_background": "light"
     },
     "output_type": "display_data"
    }
   ],
   "source": [
    "fig = plt.subplots()\n",
    "plt.plot(total_fundings_year.index, total_fundings_year.values)\n",
    "plt.xlabel('Year')\n",
    "plt.ylabel('Funding')\n",
    "plt.title('Total number of fundings done in each year')\n",
    "plt.grid()\n",
    "plt.show()\n"
   ]
  },
  {
   "cell_type": "markdown",
   "metadata": {},
   "source": [
    "#### Print year-wise total number of fundings"
   ]
  },
  {
   "cell_type": "code",
   "execution_count": 304,
   "metadata": {},
   "outputs": [],
   "source": [
    "year_total_funding = startup_funding.groupby('year').sum()\n",
    "year_total_funding = year_total_funding.drop(['SNo', 'day','month'], axis=1)\n"
   ]
  },
  {
   "cell_type": "code",
   "execution_count": 305,
   "metadata": {},
   "outputs": [
    {
     "data": {
      "text/html": [
       "<div>\n",
       "<style scoped>\n",
       "    .dataframe tbody tr th:only-of-type {\n",
       "        vertical-align: middle;\n",
       "    }\n",
       "\n",
       "    .dataframe tbody tr th {\n",
       "        vertical-align: top;\n",
       "    }\n",
       "\n",
       "    .dataframe thead th {\n",
       "        text-align: right;\n",
       "    }\n",
       "</style>\n",
       "<table border=\"1\" class=\"dataframe\">\n",
       "  <thead>\n",
       "    <tr style=\"text-align: right;\">\n",
       "      <th></th>\n",
       "      <th>AmountInUSD</th>\n",
       "    </tr>\n",
       "    <tr>\n",
       "      <th>year</th>\n",
       "      <th></th>\n",
       "    </tr>\n",
       "  </thead>\n",
       "  <tbody>\n",
       "    <tr>\n",
       "      <th>2015</th>\n",
       "      <td>8974762368</td>\n",
       "    </tr>\n",
       "    <tr>\n",
       "      <th>2016</th>\n",
       "      <td>4263578608</td>\n",
       "    </tr>\n",
       "    <tr>\n",
       "      <th>2017</th>\n",
       "      <td>6015335500</td>\n",
       "    </tr>\n",
       "  </tbody>\n",
       "</table>\n",
       "</div>"
      ],
      "text/plain": [
       "      AmountInUSD\n",
       "year             \n",
       "2015   8974762368\n",
       "2016   4263578608\n",
       "2017   6015335500"
      ]
     },
     "execution_count": 305,
     "metadata": {},
     "output_type": "execute_result"
    }
   ],
   "source": [
    "year_total_funding['AmountInUSD'] = year_total_funding['AmountInUSD'].astype('int64')\n",
    "year_total_funding"
   ]
  },
  {
   "cell_type": "markdown",
   "metadata": {},
   "source": [
    "## Problem 2: Top Indian Cities"
   ]
  },
  {
   "cell_type": "code",
   "execution_count": 306,
   "metadata": {},
   "outputs": [
    {
     "data": {
      "text/html": [
       "<div>\n",
       "<style scoped>\n",
       "    .dataframe tbody tr th:only-of-type {\n",
       "        vertical-align: middle;\n",
       "    }\n",
       "\n",
       "    .dataframe tbody tr th {\n",
       "        vertical-align: top;\n",
       "    }\n",
       "\n",
       "    .dataframe thead th {\n",
       "        text-align: right;\n",
       "    }\n",
       "</style>\n",
       "<table border=\"1\" class=\"dataframe\">\n",
       "  <thead>\n",
       "    <tr style=\"text-align: right;\">\n",
       "      <th></th>\n",
       "      <th>SNo</th>\n",
       "      <th>StartupName</th>\n",
       "      <th>IndustryVertical</th>\n",
       "      <th>SubVertical</th>\n",
       "      <th>CityLocation</th>\n",
       "      <th>InvestorsName</th>\n",
       "      <th>InvestmentType</th>\n",
       "      <th>AmountInUSD</th>\n",
       "      <th>Remarks</th>\n",
       "      <th>day</th>\n",
       "      <th>month</th>\n",
       "      <th>year</th>\n",
       "    </tr>\n",
       "    <tr>\n",
       "      <th>Date</th>\n",
       "      <th></th>\n",
       "      <th></th>\n",
       "      <th></th>\n",
       "      <th></th>\n",
       "      <th></th>\n",
       "      <th></th>\n",
       "      <th></th>\n",
       "      <th></th>\n",
       "      <th></th>\n",
       "      <th></th>\n",
       "      <th></th>\n",
       "      <th></th>\n",
       "    </tr>\n",
       "  </thead>\n",
       "  <tbody>\n",
       "    <tr>\n",
       "      <th>2015-01-05</th>\n",
       "      <td>2080</td>\n",
       "      <td>Foodpanda</td>\n",
       "      <td>Online Food Delivery</td>\n",
       "      <td>NaN</td>\n",
       "      <td>Gurgaon</td>\n",
       "      <td>Goldman Sachs, Rocket Internet</td>\n",
       "      <td>Private Equity</td>\n",
       "      <td>100000000</td>\n",
       "      <td>Series D</td>\n",
       "      <td>5</td>\n",
       "      <td>1</td>\n",
       "      <td>2015</td>\n",
       "    </tr>\n",
       "    <tr>\n",
       "      <th>2015-01-05</th>\n",
       "      <td>2081</td>\n",
       "      <td>Termsheet</td>\n",
       "      <td>Fund Raising Platform</td>\n",
       "      <td>NaN</td>\n",
       "      <td>Chennai</td>\n",
       "      <td>Anand Vijay, Nipun Dureja, Satyajit Heeralal, ...</td>\n",
       "      <td>Seed Funding</td>\n",
       "      <td>100000</td>\n",
       "      <td>NaN</td>\n",
       "      <td>5</td>\n",
       "      <td>1</td>\n",
       "      <td>2015</td>\n",
       "    </tr>\n",
       "  </tbody>\n",
       "</table>\n",
       "</div>"
      ],
      "text/plain": [
       "             SNo StartupName       IndustryVertical SubVertical CityLocation  \\\n",
       "Date                                                                           \n",
       "2015-01-05  2080   Foodpanda   Online Food Delivery         NaN      Gurgaon   \n",
       "2015-01-05  2081   Termsheet  Fund Raising Platform         NaN      Chennai   \n",
       "\n",
       "                                                InvestorsName  InvestmentType  \\\n",
       "Date                                                                            \n",
       "2015-01-05                     Goldman Sachs, Rocket Internet  Private Equity   \n",
       "2015-01-05  Anand Vijay, Nipun Dureja, Satyajit Heeralal, ...    Seed Funding   \n",
       "\n",
       "            AmountInUSD   Remarks  day  month  year  \n",
       "Date                                                 \n",
       "2015-01-05    100000000  Series D    5      1  2015  \n",
       "2015-01-05       100000       NaN    5      1  2015  "
      ]
     },
     "execution_count": 306,
     "metadata": {},
     "output_type": "execute_result"
    }
   ],
   "source": [
    "startup_funding.head(2)"
   ]
  },
  {
   "cell_type": "code",
   "execution_count": 307,
   "metadata": {},
   "outputs": [
    {
     "name": "stdout",
     "output_type": "stream",
     "text": [
      "['GURGAON', 'CHENNAI', 'NEW DELHI', 'HYDERABAD', 'MUMBAI', 'BANGALORE', 'PUNE', 'CHANDIGARH', 'SINGAPORE', 'JAIPUR', nan, 'UDAIPUR', 'US', 'AHMEDABAD', 'NOIDA', 'VADODARA', 'USA', 'INDIA', 'DALLAS', 'GWALIOR', 'KOLKATA', 'UDUPI', 'SFO', 'GOA', 'NAGPUR', 'CALIFORNIA', 'BHOPAL', 'COIMBATORE', 'GLOBAL', 'KANPUR', 'SAN MATEO', 'BANGKOK', 'HOUSTON', 'NEW YORK', 'BELGAUM', 'BOSTON', 'PALO ALTO', 'NY', 'INDORE', 'UK', 'SILIGURI', 'JODHPUR', 'SEATTLE', 'DUBAI', 'KOCHI', 'VARANASI', 'TRIVANDRUM', 'LUCKNOW', 'KERALA', 'LONDON', 'KOZHIKODE', 'AGRA', 'HUBLI', 'KARUR', 'MISSOURIE', 'PANAJI', 'SURAT']\n"
     ]
    }
   ],
   "source": [
    "# convert to uppercase\n",
    "# split cities separated by '/' into multiple rows\n",
    "startup_funding['CityLocation'] = startup_funding['CityLocation'].str.strip()\n",
    "startup_funding['CityLocation'] = startup_funding['CityLocation'].str.upper()\n",
    "startup_funding = startup_funding.assign(CityLocation=startup_funding['CityLocation'].str.split('/')).explode('CityLocation')\n",
    "startup_funding['CityLocation'] = startup_funding['CityLocation'].apply(lambda x:x.replace('DELHI', 'NEW DELHI') if x == 'DELHI' else x)\n",
    "startup_funding['CityLocation'] = startup_funding['CityLocation'].str.strip()\n",
    "\n",
    "print(list(pd.unique(startup_funding['CityLocation'])))"
   ]
  },
  {
   "cell_type": "code",
   "execution_count": 308,
   "metadata": {},
   "outputs": [
    {
     "name": "stdout",
     "output_type": "stream",
     "text": [
      "179\n",
      "0\n"
     ]
    }
   ],
   "source": [
    "# missing values in CityLocation\n",
    "print(startup_funding.CityLocation.isna().sum())\n",
    "\n",
    "# replace missing values by fixed string 'Unknown'\n",
    "startup_funding['CityLocation'].fillna('Unknown', inplace=True)\n",
    "print(startup_funding.CityLocation.isna().sum())"
   ]
  },
  {
   "cell_type": "markdown",
   "metadata": {},
   "source": [
    "#### Find out which cities are generally chosen for starting a startup."
   ]
  },
  {
   "cell_type": "code",
   "execution_count": 309,
   "metadata": {},
   "outputs": [
    {
     "data": {
      "text/html": [
       "<div>\n",
       "<style scoped>\n",
       "    .dataframe tbody tr th:only-of-type {\n",
       "        vertical-align: middle;\n",
       "    }\n",
       "\n",
       "    .dataframe tbody tr th {\n",
       "        vertical-align: top;\n",
       "    }\n",
       "\n",
       "    .dataframe thead th {\n",
       "        text-align: right;\n",
       "    }\n",
       "</style>\n",
       "<table border=\"1\" class=\"dataframe\">\n",
       "  <thead>\n",
       "    <tr style=\"text-align: right;\">\n",
       "      <th></th>\n",
       "      <th>StartupName</th>\n",
       "    </tr>\n",
       "    <tr>\n",
       "      <th>CityLocation</th>\n",
       "      <th></th>\n",
       "    </tr>\n",
       "  </thead>\n",
       "  <tbody>\n",
       "    <tr>\n",
       "      <th>BANGALORE</th>\n",
       "      <td>637</td>\n",
       "    </tr>\n",
       "    <tr>\n",
       "      <th>MUMBAI</th>\n",
       "      <td>449</td>\n",
       "    </tr>\n",
       "    <tr>\n",
       "      <th>NEW DELHI</th>\n",
       "      <td>389</td>\n",
       "    </tr>\n",
       "    <tr>\n",
       "      <th>GURGAON</th>\n",
       "      <td>241</td>\n",
       "    </tr>\n",
       "    <tr>\n",
       "      <th>Unknown</th>\n",
       "      <td>179</td>\n",
       "    </tr>\n",
       "  </tbody>\n",
       "</table>\n",
       "</div>"
      ],
      "text/plain": [
       "              StartupName\n",
       "CityLocation             \n",
       "BANGALORE             637\n",
       "MUMBAI                449\n",
       "NEW DELHI             389\n",
       "GURGAON               241\n",
       "Unknown               179"
      ]
     },
     "execution_count": 309,
     "metadata": {},
     "output_type": "execute_result"
    }
   ],
   "source": [
    "cities_most_startup = startup_funding.groupby('CityLocation').count().sort_values(by='StartupName', ascending=False)\n",
    "cities_most_startup = cities_most_startup.loc[:, cities_most_startup.columns.intersection(['StartupName'])]\n",
    "cities_most_startup.head()"
   ]
  },
  {
   "cell_type": "markdown",
   "metadata": {},
   "source": [
    "#### Find top 10 Indian cities which have most number of startups ?"
   ]
  },
  {
   "cell_type": "code",
   "execution_count": 310,
   "metadata": {},
   "outputs": [
    {
     "data": {
      "text/html": [
       "<div>\n",
       "<style scoped>\n",
       "    .dataframe tbody tr th:only-of-type {\n",
       "        vertical-align: middle;\n",
       "    }\n",
       "\n",
       "    .dataframe tbody tr th {\n",
       "        vertical-align: top;\n",
       "    }\n",
       "\n",
       "    .dataframe thead th {\n",
       "        text-align: right;\n",
       "    }\n",
       "</style>\n",
       "<table border=\"1\" class=\"dataframe\">\n",
       "  <thead>\n",
       "    <tr style=\"text-align: right;\">\n",
       "      <th></th>\n",
       "      <th>StartupName</th>\n",
       "    </tr>\n",
       "    <tr>\n",
       "      <th>CityLocation</th>\n",
       "      <th></th>\n",
       "    </tr>\n",
       "  </thead>\n",
       "  <tbody>\n",
       "    <tr>\n",
       "      <th>BANGALORE</th>\n",
       "      <td>637</td>\n",
       "    </tr>\n",
       "    <tr>\n",
       "      <th>MUMBAI</th>\n",
       "      <td>449</td>\n",
       "    </tr>\n",
       "    <tr>\n",
       "      <th>NEW DELHI</th>\n",
       "      <td>389</td>\n",
       "    </tr>\n",
       "    <tr>\n",
       "      <th>GURGAON</th>\n",
       "      <td>241</td>\n",
       "    </tr>\n",
       "    <tr>\n",
       "      <th>PUNE</th>\n",
       "      <td>91</td>\n",
       "    </tr>\n",
       "    <tr>\n",
       "      <th>NOIDA</th>\n",
       "      <td>79</td>\n",
       "    </tr>\n",
       "    <tr>\n",
       "      <th>HYDERABAD</th>\n",
       "      <td>79</td>\n",
       "    </tr>\n",
       "    <tr>\n",
       "      <th>CHENNAI</th>\n",
       "      <td>67</td>\n",
       "    </tr>\n",
       "    <tr>\n",
       "      <th>AHMEDABAD</th>\n",
       "      <td>35</td>\n",
       "    </tr>\n",
       "    <tr>\n",
       "      <th>JAIPUR</th>\n",
       "      <td>25</td>\n",
       "    </tr>\n",
       "  </tbody>\n",
       "</table>\n",
       "</div>"
      ],
      "text/plain": [
       "              StartupName\n",
       "CityLocation             \n",
       "BANGALORE             637\n",
       "MUMBAI                449\n",
       "NEW DELHI             389\n",
       "GURGAON               241\n",
       "PUNE                   91\n",
       "NOIDA                  79\n",
       "HYDERABAD              79\n",
       "CHENNAI                67\n",
       "AHMEDABAD              35\n",
       "JAIPUR                 25"
      ]
     },
     "execution_count": 310,
     "metadata": {},
     "output_type": "execute_result"
    }
   ],
   "source": [
    "top_10_cities = cities_most_startup.head(11)\n",
    "top_10_cities = top_10_cities.drop('Unknown', axis=0)\n",
    "top_10_cities"
   ]
  },
  {
   "cell_type": "markdown",
   "metadata": {},
   "source": [
    "#### Plot a pie chart to visualize it"
   ]
  },
  {
   "cell_type": "code",
   "execution_count": 311,
   "metadata": {},
   "outputs": [
    {
     "name": "stderr",
     "output_type": "stream",
     "text": [
      "C:\\Users\\Shubham\\Anaconda3\\lib\\site-packages\\ipykernel_launcher.py:11: MatplotlibDeprecationWarning: Non-1D inputs to pie() are currently squeeze()d, but this behavior is deprecated since 3.1 and will be removed in 3.3; pass a 1D array instead.\n",
      "  # This is added back by InteractiveShellApp.init_path()\n"
     ]
    },
    {
     "data": {
      "image/png": "[encoded data removed]",
      "text/plain": [
       "<Figure size 1080x432 with 1 Axes>"
      ]
     },
     "metadata": {},
     "output_type": "display_data"
    }
   ],
   "source": [
    "labels = list(top_10_cities.index)\n",
    "sizes = list(top_10_cities.values)\n",
    "# explode = (0, 0.1, 0, 0)  # only \"explode\" the 2nd slice (i.e. 'Hogs')\n",
    "\n",
    "def absolute_value(val):\n",
    "    a  = np.round(val/100.*sum(sizes), 0)\n",
    "    return a[0]\n",
    "\n",
    "fig1, ax1 = plt.subplots()\n",
    "ax1.pie(sizes, labels=labels, autopct=absolute_value,\n",
    "        shadow=True, startangle=90)\n",
    "ax1.axis('equal')  # Equal aspect ratio ensures that pie is drawn as a circle.\n",
    "\n",
    "plt.show()"
   ]
  },
  {
   "cell_type": "markdown",
   "metadata": {},
   "source": [
    "## Problem 3: Funding amount\n"
   ]
  },
  {
   "cell_type": "markdown",
   "metadata": {},
   "source": [
    "### Find top 10 Indian cities with most amount of fundings received. "
   ]
  },
  {
   "cell_type": "code",
   "execution_count": 312,
   "metadata": {},
   "outputs": [
    {
     "data": {
      "text/html": [
       "<div>\n",
       "<style scoped>\n",
       "    .dataframe tbody tr th:only-of-type {\n",
       "        vertical-align: middle;\n",
       "    }\n",
       "\n",
       "    .dataframe tbody tr th {\n",
       "        vertical-align: top;\n",
       "    }\n",
       "\n",
       "    .dataframe thead th {\n",
       "        text-align: right;\n",
       "    }\n",
       "</style>\n",
       "<table border=\"1\" class=\"dataframe\">\n",
       "  <thead>\n",
       "    <tr style=\"text-align: right;\">\n",
       "      <th></th>\n",
       "      <th>AmountInUSD</th>\n",
       "    </tr>\n",
       "    <tr>\n",
       "      <th>CityLocation</th>\n",
       "      <th></th>\n",
       "    </tr>\n",
       "  </thead>\n",
       "  <tbody>\n",
       "    <tr>\n",
       "      <th>BANGALORE</th>\n",
       "      <td>8665354108</td>\n",
       "    </tr>\n",
       "    <tr>\n",
       "      <th>NEW DELHI</th>\n",
       "      <td>3004427500</td>\n",
       "    </tr>\n",
       "    <tr>\n",
       "      <th>MUMBAI</th>\n",
       "      <td>2511154500</td>\n",
       "    </tr>\n",
       "    <tr>\n",
       "      <th>GURGAON</th>\n",
       "      <td>2149271500</td>\n",
       "    </tr>\n",
       "    <tr>\n",
       "      <th>Unknown</th>\n",
       "      <td>1318943868</td>\n",
       "    </tr>\n",
       "    <tr>\n",
       "      <th>CHENNAI</th>\n",
       "      <td>432505000</td>\n",
       "    </tr>\n",
       "    <tr>\n",
       "      <th>PUNE</th>\n",
       "      <td>399823000</td>\n",
       "    </tr>\n",
       "    <tr>\n",
       "      <th>HYDERABAD</th>\n",
       "      <td>222042000</td>\n",
       "    </tr>\n",
       "    <tr>\n",
       "      <th>NOIDA</th>\n",
       "      <td>205948000</td>\n",
       "    </tr>\n",
       "    <tr>\n",
       "      <th>US</th>\n",
       "      <td>169570000</td>\n",
       "    </tr>\n",
       "  </tbody>\n",
       "</table>\n",
       "</div>"
      ],
      "text/plain": [
       "              AmountInUSD\n",
       "CityLocation             \n",
       "BANGALORE      8665354108\n",
       "NEW DELHI      3004427500\n",
       "MUMBAI         2511154500\n",
       "GURGAON        2149271500\n",
       "Unknown        1318943868\n",
       "CHENNAI         432505000\n",
       "PUNE            399823000\n",
       "HYDERABAD       222042000\n",
       "NOIDA           205948000\n",
       "US              169570000"
      ]
     },
     "execution_count": 312,
     "metadata": {},
     "output_type": "execute_result"
    }
   ],
   "source": [
    "amount_cities = startup_funding.groupby('CityLocation').sum()\n",
    "amount_cities = amount_cities.loc[:, amount_cities.columns.intersection(['AmountInUSD'])]\n",
    "amount_cities = amount_cities.astype('Int64')\n",
    "amount_cities = amount_cities.sort_values(by='AmountInUSD', ascending=False)\n",
    "amount_cities.head(10)"
   ]
  },
  {
   "cell_type": "code",
   "execution_count": 313,
   "metadata": {},
   "outputs": [],
   "source": [
    "indian_cities = ['GURGAON', 'CHENNAI', 'NEW DELHI', 'HYDERABAD', 'MUMBAI', 'BANGALORE', 'PUNE', 'CHANDIGARH', 'JAIPUR', 'UDAIPUR', 'AHMEDABAD', 'NOIDA', 'VADODARA', 'INDIA', 'GWALIOR', 'KOLKATA', 'UDUPI', 'GOA', 'NAGPUR', 'BHOPAL', 'COIMBATORE', 'KANPUR', 'BELGAUM', 'INDORE', 'SILIGURI', 'JODHPUR', 'KOCHI', 'VARANASI', 'TRIVANDRUM', 'LUCKNOW', 'KERALA', 'LONDON', 'KOZHIKODE', 'AGRA', 'HUBLI', 'PANAJI', 'SURAT']\n",
    "\n",
    "for city in amount_cities.index:\n",
    "    city = city.strip()\n",
    "    if not city in indian_cities:\n",
    "        amount_cities.drop(city, inplace=True)"
   ]
  },
  {
   "cell_type": "markdown",
   "metadata": {},
   "source": [
    "#### Indian cities only"
   ]
  },
  {
   "cell_type": "code",
   "execution_count": 314,
   "metadata": {},
   "outputs": [
    {
     "data": {
      "text/html": [
       "<div>\n",
       "<style scoped>\n",
       "    .dataframe tbody tr th:only-of-type {\n",
       "        vertical-align: middle;\n",
       "    }\n",
       "\n",
       "    .dataframe tbody tr th {\n",
       "        vertical-align: top;\n",
       "    }\n",
       "\n",
       "    .dataframe thead th {\n",
       "        text-align: right;\n",
       "    }\n",
       "</style>\n",
       "<table border=\"1\" class=\"dataframe\">\n",
       "  <thead>\n",
       "    <tr style=\"text-align: right;\">\n",
       "      <th></th>\n",
       "      <th>AmountInUSD</th>\n",
       "    </tr>\n",
       "    <tr>\n",
       "      <th>CityLocation</th>\n",
       "      <th></th>\n",
       "    </tr>\n",
       "  </thead>\n",
       "  <tbody>\n",
       "    <tr>\n",
       "      <th>BANGALORE</th>\n",
       "      <td>8665354108</td>\n",
       "    </tr>\n",
       "    <tr>\n",
       "      <th>NEW DELHI</th>\n",
       "      <td>3004427500</td>\n",
       "    </tr>\n",
       "    <tr>\n",
       "      <th>MUMBAI</th>\n",
       "      <td>2511154500</td>\n",
       "    </tr>\n",
       "    <tr>\n",
       "      <th>GURGAON</th>\n",
       "      <td>2149271500</td>\n",
       "    </tr>\n",
       "    <tr>\n",
       "      <th>CHENNAI</th>\n",
       "      <td>432505000</td>\n",
       "    </tr>\n",
       "    <tr>\n",
       "      <th>PUNE</th>\n",
       "      <td>399823000</td>\n",
       "    </tr>\n",
       "    <tr>\n",
       "      <th>HYDERABAD</th>\n",
       "      <td>222042000</td>\n",
       "    </tr>\n",
       "    <tr>\n",
       "      <th>NOIDA</th>\n",
       "      <td>205948000</td>\n",
       "    </tr>\n",
       "    <tr>\n",
       "      <th>AHMEDABAD</th>\n",
       "      <td>108886000</td>\n",
       "    </tr>\n",
       "    <tr>\n",
       "      <th>INDIA</th>\n",
       "      <td>52550000</td>\n",
       "    </tr>\n",
       "  </tbody>\n",
       "</table>\n",
       "</div>"
      ],
      "text/plain": [
       "              AmountInUSD\n",
       "CityLocation             \n",
       "BANGALORE      8665354108\n",
       "NEW DELHI      3004427500\n",
       "MUMBAI         2511154500\n",
       "GURGAON        2149271500\n",
       "CHENNAI         432505000\n",
       "PUNE            399823000\n",
       "HYDERABAD       222042000\n",
       "NOIDA           205948000\n",
       "AHMEDABAD       108886000\n",
       "INDIA            52550000"
      ]
     },
     "execution_count": 314,
     "metadata": {},
     "output_type": "execute_result"
    }
   ],
   "source": [
    "amount_cities = amount_cities.sort_values(by='AmountInUSD', ascending=False).head(10)\n",
    "amount_cities"
   ]
  },
  {
   "cell_type": "markdown",
   "metadata": {},
   "source": [
    "#### Find out percentage of funding each city has got (among top 10 Indian cities only)"
   ]
  },
  {
   "cell_type": "code",
   "execution_count": 315,
   "metadata": {},
   "outputs": [
    {
     "data": {
      "text/html": [
       "<div>\n",
       "<style scoped>\n",
       "    .dataframe tbody tr th:only-of-type {\n",
       "        vertical-align: middle;\n",
       "    }\n",
       "\n",
       "    .dataframe tbody tr th {\n",
       "        vertical-align: top;\n",
       "    }\n",
       "\n",
       "    .dataframe thead th {\n",
       "        text-align: right;\n",
       "    }\n",
       "</style>\n",
       "<table border=\"1\" class=\"dataframe\">\n",
       "  <thead>\n",
       "    <tr style=\"text-align: right;\">\n",
       "      <th></th>\n",
       "      <th>AmountInUSD</th>\n",
       "      <th>percent</th>\n",
       "    </tr>\n",
       "    <tr>\n",
       "      <th>CityLocation</th>\n",
       "      <th></th>\n",
       "      <th></th>\n",
       "    </tr>\n",
       "  </thead>\n",
       "  <tbody>\n",
       "    <tr>\n",
       "      <th>BANGALORE</th>\n",
       "      <td>8665354108</td>\n",
       "      <td>48.81</td>\n",
       "    </tr>\n",
       "    <tr>\n",
       "      <th>NEW DELHI</th>\n",
       "      <td>3004427500</td>\n",
       "      <td>16.92</td>\n",
       "    </tr>\n",
       "    <tr>\n",
       "      <th>MUMBAI</th>\n",
       "      <td>2511154500</td>\n",
       "      <td>14.15</td>\n",
       "    </tr>\n",
       "    <tr>\n",
       "      <th>GURGAON</th>\n",
       "      <td>2149271500</td>\n",
       "      <td>12.11</td>\n",
       "    </tr>\n",
       "    <tr>\n",
       "      <th>CHENNAI</th>\n",
       "      <td>432505000</td>\n",
       "      <td>2.44</td>\n",
       "    </tr>\n",
       "    <tr>\n",
       "      <th>PUNE</th>\n",
       "      <td>399823000</td>\n",
       "      <td>2.25</td>\n",
       "    </tr>\n",
       "    <tr>\n",
       "      <th>HYDERABAD</th>\n",
       "      <td>222042000</td>\n",
       "      <td>1.25</td>\n",
       "    </tr>\n",
       "    <tr>\n",
       "      <th>NOIDA</th>\n",
       "      <td>205948000</td>\n",
       "      <td>1.16</td>\n",
       "    </tr>\n",
       "    <tr>\n",
       "      <th>AHMEDABAD</th>\n",
       "      <td>108886000</td>\n",
       "      <td>0.61</td>\n",
       "    </tr>\n",
       "    <tr>\n",
       "      <th>INDIA</th>\n",
       "      <td>52550000</td>\n",
       "      <td>0.30</td>\n",
       "    </tr>\n",
       "  </tbody>\n",
       "</table>\n",
       "</div>"
      ],
      "text/plain": [
       "              AmountInUSD  percent\n",
       "CityLocation                      \n",
       "BANGALORE      8665354108    48.81\n",
       "NEW DELHI      3004427500    16.92\n",
       "MUMBAI         2511154500    14.15\n",
       "GURGAON        2149271500    12.11\n",
       "CHENNAI         432505000     2.44\n",
       "PUNE            399823000     2.25\n",
       "HYDERABAD       222042000     1.25\n",
       "NOIDA           205948000     1.16\n",
       "AHMEDABAD       108886000     0.61\n",
       "INDIA            52550000     0.30"
      ]
     },
     "execution_count": 315,
     "metadata": {},
     "output_type": "execute_result"
    }
   ],
   "source": [
    "amount_cities['percent'] = (amount_cities['AmountInUSD'] / amount_cities['AmountInUSD'].sum()) * 100\n",
    "amount_cities['percent'] = amount_cities['percent'].apply(lambda x:round(x,2))\n",
    "amount_cities"
   ]
  },
  {
   "cell_type": "markdown",
   "metadata": {},
   "source": [
    "## Problem 4 : Investment Type"
   ]
  },
  {
   "cell_type": "markdown",
   "metadata": {},
   "source": [
    "### Find out percentage of amount funded for each investment type."
   ]
  },
  {
   "cell_type": "code",
   "execution_count": 316,
   "metadata": {},
   "outputs": [
    {
     "name": "stdout",
     "output_type": "stream",
     "text": [
      "['Private Equity', 'Seed Funding', 'SeedFunding', 'PrivateEquity', 'Crowd Funding', 'Crowd funding', nan, 'Debt Funding']\n",
      "['Private Equity', 'Seed Funding', 'Crowd Funding', nan, 'Debt Funding']\n"
     ]
    }
   ],
   "source": [
    "print(list(pd.unique(startup_funding['InvestmentType'])))\n",
    "startup_funding['InvestmentType'] = startup_funding['InvestmentType'].apply(lambda x:x.replace('PrivateEquity', 'Private Equity') if x == 'PrivateEquity' else x)\n",
    "startup_funding['InvestmentType'] = startup_funding['InvestmentType'].apply(lambda x:x.replace('SeedFunding', 'Seed Funding') if x == 'SeedFunding' else x)\n",
    "startup_funding['InvestmentType'] = startup_funding['InvestmentType'].apply(lambda x:x.replace('Crowd funding', 'Crowd Funding') if x == 'Crowd funding' else x)\n",
    "print(list(pd.unique(startup_funding['InvestmentType'])))"
   ]
  },
  {
   "cell_type": "markdown",
   "metadata": {},
   "source": [
    "#### Print the investment type in descending order with respect to the percentage of the amount funded."
   ]
  },
  {
   "cell_type": "code",
   "execution_count": 317,
   "metadata": {},
   "outputs": [
    {
     "data": {
      "text/html": [
       "<div>\n",
       "<style scoped>\n",
       "    .dataframe tbody tr th:only-of-type {\n",
       "        vertical-align: middle;\n",
       "    }\n",
       "\n",
       "    .dataframe tbody tr th {\n",
       "        vertical-align: top;\n",
       "    }\n",
       "\n",
       "    .dataframe thead th {\n",
       "        text-align: right;\n",
       "    }\n",
       "</style>\n",
       "<table border=\"1\" class=\"dataframe\">\n",
       "  <thead>\n",
       "    <tr style=\"text-align: right;\">\n",
       "      <th></th>\n",
       "      <th>AmountInUSD</th>\n",
       "      <th>percent</th>\n",
       "    </tr>\n",
       "    <tr>\n",
       "      <th>InvestmentType</th>\n",
       "      <th></th>\n",
       "      <th></th>\n",
       "    </tr>\n",
       "  </thead>\n",
       "  <tbody>\n",
       "    <tr>\n",
       "      <th>Private Equity</th>\n",
       "      <td>18516355000</td>\n",
       "      <td>94.86</td>\n",
       "    </tr>\n",
       "    <tr>\n",
       "      <th>Seed Funding</th>\n",
       "      <td>995005708</td>\n",
       "      <td>5.10</td>\n",
       "    </tr>\n",
       "    <tr>\n",
       "      <th>Debt Funding</th>\n",
       "      <td>7800000</td>\n",
       "      <td>0.04</td>\n",
       "    </tr>\n",
       "    <tr>\n",
       "      <th>Crowd Funding</th>\n",
       "      <td>155768</td>\n",
       "      <td>0.00</td>\n",
       "    </tr>\n",
       "  </tbody>\n",
       "</table>\n",
       "</div>"
      ],
      "text/plain": [
       "                AmountInUSD  percent\n",
       "InvestmentType                      \n",
       "Private Equity  18516355000    94.86\n",
       "Seed Funding      995005708     5.10\n",
       "Debt Funding        7800000     0.04\n",
       "Crowd Funding        155768     0.00"
      ]
     },
     "execution_count": 317,
     "metadata": {},
     "output_type": "execute_result"
    }
   ],
   "source": [
    "investment = startup_funding.groupby('InvestmentType').sum()\n",
    "investment = investment.loc[:, investment.columns.intersection(['AmountInUSD'])]\n",
    "investment = investment.astype('Int64')\n",
    "investment['percent'] = (investment['AmountInUSD'] / investment['AmountInUSD'].sum()) * 100\n",
    "investment['percent'] = investment['percent'].apply(lambda x:round(x,2))\n",
    "investment = investment.sort_values(by='AmountInUSD', ascending=False)\n",
    "investment"
   ]
  },
  {
   "cell_type": "markdown",
   "metadata": {},
   "source": [
    "## Problem 5 : Top Industries"
   ]
  },
  {
   "cell_type": "code",
   "execution_count": 320,
   "metadata": {},
   "outputs": [
    {
     "data": {
      "text/html": [
       "<div>\n",
       "<style scoped>\n",
       "    .dataframe tbody tr th:only-of-type {\n",
       "        vertical-align: middle;\n",
       "    }\n",
       "\n",
       "    .dataframe tbody tr th {\n",
       "        vertical-align: top;\n",
       "    }\n",
       "\n",
       "    .dataframe thead th {\n",
       "        text-align: right;\n",
       "    }\n",
       "</style>\n",
       "<table border=\"1\" class=\"dataframe\">\n",
       "  <thead>\n",
       "    <tr style=\"text-align: right;\">\n",
       "      <th></th>\n",
       "      <th>AmountInUSD</th>\n",
       "      <th>percent</th>\n",
       "    </tr>\n",
       "    <tr>\n",
       "      <th>IndustryVertical</th>\n",
       "      <th></th>\n",
       "      <th></th>\n",
       "    </tr>\n",
       "  </thead>\n",
       "  <tbody>\n",
       "    <tr>\n",
       "      <th>ECOMMERCE</th>\n",
       "      <td>4379859608</td>\n",
       "      <td>24.00</td>\n",
       "    </tr>\n",
       "    <tr>\n",
       "      <th>CONSUMER INTERNET</th>\n",
       "      <td>4134669000</td>\n",
       "      <td>22.66</td>\n",
       "    </tr>\n",
       "    <tr>\n",
       "      <th>TECHNOLOGY</th>\n",
       "      <td>1264773500</td>\n",
       "      <td>6.93</td>\n",
       "    </tr>\n",
       "    <tr>\n",
       "      <th>ONLINE MARKETPLACE</th>\n",
       "      <td>700000000</td>\n",
       "      <td>3.84</td>\n",
       "    </tr>\n",
       "    <tr>\n",
       "      <th>E-COMMERCE &amp; M-COMMERCE PLATFORM</th>\n",
       "      <td>680000000</td>\n",
       "      <td>3.73</td>\n",
       "    </tr>\n",
       "    <tr>\n",
       "      <th>...</th>\n",
       "      <td>...</td>\n",
       "      <td>...</td>\n",
       "    </tr>\n",
       "    <tr>\n",
       "      <th>FOOD ORDERING &amp; DELIVERY APP</th>\n",
       "      <td>77000</td>\n",
       "      <td>0.00</td>\n",
       "    </tr>\n",
       "    <tr>\n",
       "      <th>RAW MEAT &amp; READY TO EAT FOOD ETAILER</th>\n",
       "      <td>77000</td>\n",
       "      <td>0.00</td>\n",
       "    </tr>\n",
       "    <tr>\n",
       "      <th>DEVELOPER PORTFOLIO SHOWCASE PLATFORM</th>\n",
       "      <td>70000</td>\n",
       "      <td>0.00</td>\n",
       "    </tr>\n",
       "    <tr>\n",
       "      <th>PERSONALIZED WISH LIST CREATOR APP</th>\n",
       "      <td>50000</td>\n",
       "      <td>0.00</td>\n",
       "    </tr>\n",
       "    <tr>\n",
       "      <th>COUPON AGGREGATOR PLATFORM</th>\n",
       "      <td>20000</td>\n",
       "      <td>0.00</td>\n",
       "    </tr>\n",
       "  </tbody>\n",
       "</table>\n",
       "<p>728 rows × 2 columns</p>\n",
       "</div>"
      ],
      "text/plain": [
       "                                       AmountInUSD  percent\n",
       "IndustryVertical                                           \n",
       "ECOMMERCE                               4379859608    24.00\n",
       "CONSUMER INTERNET                       4134669000    22.66\n",
       "TECHNOLOGY                              1264773500     6.93\n",
       "ONLINE MARKETPLACE                       700000000     3.84\n",
       "E-COMMERCE & M-COMMERCE PLATFORM         680000000     3.73\n",
       "...                                            ...      ...\n",
       "FOOD ORDERING & DELIVERY APP                 77000     0.00\n",
       "RAW MEAT & READY TO EAT FOOD ETAILER         77000     0.00\n",
       "DEVELOPER PORTFOLIO SHOWCASE PLATFORM        70000     0.00\n",
       "PERSONALIZED WISH LIST CREATOR APP           50000     0.00\n",
       "COUPON AGGREGATOR PLATFORM                   20000     0.00\n",
       "\n",
       "[728 rows x 2 columns]"
      ]
     },
     "execution_count": 320,
     "metadata": {},
     "output_type": "execute_result"
    }
   ],
   "source": [
    "startup_funding['IndustryVertical'] = startup_funding['IndustryVertical'].str.upper()\n",
    "industry = startup_funding.groupby('IndustryVertical').sum()\n",
    "industry = industry.loc[:, industry.columns.intersection(['AmountInUSD'])]\n",
    "industry = industry.astype('Int64')\n",
    "industry['percent'] = (industry['AmountInUSD'] / industry['AmountInUSD'].sum()) * 100\n",
    "industry['percent'] = industry['percent'].apply(lambda x:round(x,2))\n",
    "industry = industry.sort_values(by='AmountInUSD', ascending=False)\n",
    "industry"
   ]
  },
  {
   "cell_type": "markdown",
   "metadata": {},
   "source": [
    "#### Top 5 industries and percentage of the total amount funded to that industry"
   ]
  },
  {
   "cell_type": "code",
   "execution_count": 323,
   "metadata": {},
   "outputs": [
    {
     "data": {
      "text/html": [
       "<div>\n",
       "<style scoped>\n",
       "    .dataframe tbody tr th:only-of-type {\n",
       "        vertical-align: middle;\n",
       "    }\n",
       "\n",
       "    .dataframe tbody tr th {\n",
       "        vertical-align: top;\n",
       "    }\n",
       "\n",
       "    .dataframe thead th {\n",
       "        text-align: right;\n",
       "    }\n",
       "</style>\n",
       "<table border=\"1\" class=\"dataframe\">\n",
       "  <thead>\n",
       "    <tr style=\"text-align: right;\">\n",
       "      <th></th>\n",
       "      <th>percent</th>\n",
       "    </tr>\n",
       "    <tr>\n",
       "      <th>IndustryVertical</th>\n",
       "      <th></th>\n",
       "    </tr>\n",
       "  </thead>\n",
       "  <tbody>\n",
       "    <tr>\n",
       "      <th>ECOMMERCE</th>\n",
       "      <td>24.00</td>\n",
       "    </tr>\n",
       "    <tr>\n",
       "      <th>CONSUMER INTERNET</th>\n",
       "      <td>22.66</td>\n",
       "    </tr>\n",
       "    <tr>\n",
       "      <th>TECHNOLOGY</th>\n",
       "      <td>6.93</td>\n",
       "    </tr>\n",
       "    <tr>\n",
       "      <th>ONLINE MARKETPLACE</th>\n",
       "      <td>3.84</td>\n",
       "    </tr>\n",
       "    <tr>\n",
       "      <th>E-COMMERCE &amp; M-COMMERCE PLATFORM</th>\n",
       "      <td>3.73</td>\n",
       "    </tr>\n",
       "  </tbody>\n",
       "</table>\n",
       "</div>"
      ],
      "text/plain": [
       "                                  percent\n",
       "IndustryVertical                         \n",
       "ECOMMERCE                           24.00\n",
       "CONSUMER INTERNET                   22.66\n",
       "TECHNOLOGY                           6.93\n",
       "ONLINE MARKETPLACE                   3.84\n",
       "E-COMMERCE & M-COMMERCE PLATFORM     3.73"
      ]
     },
     "execution_count": 323,
     "metadata": {},
     "output_type": "execute_result"
    }
   ],
   "source": [
    "top5_industry = industry.drop('AmountInUSD', axis=1).head(5)\n",
    "top5_industry"
   ]
  },
  {
   "cell_type": "markdown",
   "metadata": {},
   "source": [
    "## Problem 6 : Top startups"
   ]
  },
  {
   "cell_type": "markdown",
   "metadata": {},
   "source": [
    "### Find top 5 startups with most amount of total funding."
   ]
  },
  {
   "cell_type": "code",
   "execution_count": 324,
   "metadata": {},
   "outputs": [
    {
     "data": {
      "text/html": [
       "<div>\n",
       "<style scoped>\n",
       "    .dataframe tbody tr th:only-of-type {\n",
       "        vertical-align: middle;\n",
       "    }\n",
       "\n",
       "    .dataframe tbody tr th {\n",
       "        vertical-align: top;\n",
       "    }\n",
       "\n",
       "    .dataframe thead th {\n",
       "        text-align: right;\n",
       "    }\n",
       "</style>\n",
       "<table border=\"1\" class=\"dataframe\">\n",
       "  <thead>\n",
       "    <tr style=\"text-align: right;\">\n",
       "      <th></th>\n",
       "      <th>SNo</th>\n",
       "      <th>StartupName</th>\n",
       "      <th>IndustryVertical</th>\n",
       "      <th>SubVertical</th>\n",
       "      <th>CityLocation</th>\n",
       "      <th>InvestorsName</th>\n",
       "      <th>InvestmentType</th>\n",
       "      <th>AmountInUSD</th>\n",
       "      <th>Remarks</th>\n",
       "      <th>day</th>\n",
       "      <th>month</th>\n",
       "      <th>year</th>\n",
       "    </tr>\n",
       "    <tr>\n",
       "      <th>Date</th>\n",
       "      <th></th>\n",
       "      <th></th>\n",
       "      <th></th>\n",
       "      <th></th>\n",
       "      <th></th>\n",
       "      <th></th>\n",
       "      <th></th>\n",
       "      <th></th>\n",
       "      <th></th>\n",
       "      <th></th>\n",
       "      <th></th>\n",
       "      <th></th>\n",
       "    </tr>\n",
       "  </thead>\n",
       "  <tbody>\n",
       "    <tr>\n",
       "      <th>2015-01-05</th>\n",
       "      <td>2080</td>\n",
       "      <td>Foodpanda</td>\n",
       "      <td>ONLINE FOOD DELIVERY</td>\n",
       "      <td>NaN</td>\n",
       "      <td>GURGAON</td>\n",
       "      <td>Goldman Sachs, Rocket Internet</td>\n",
       "      <td>Private Equity</td>\n",
       "      <td>100000000</td>\n",
       "      <td>Series D</td>\n",
       "      <td>5</td>\n",
       "      <td>1</td>\n",
       "      <td>2015</td>\n",
       "    </tr>\n",
       "    <tr>\n",
       "      <th>2015-01-05</th>\n",
       "      <td>2081</td>\n",
       "      <td>Termsheet</td>\n",
       "      <td>FUND RAISING PLATFORM</td>\n",
       "      <td>NaN</td>\n",
       "      <td>CHENNAI</td>\n",
       "      <td>Anand Vijay, Nipun Dureja, Satyajit Heeralal, ...</td>\n",
       "      <td>Seed Funding</td>\n",
       "      <td>100000</td>\n",
       "      <td>NaN</td>\n",
       "      <td>5</td>\n",
       "      <td>1</td>\n",
       "      <td>2015</td>\n",
       "    </tr>\n",
       "  </tbody>\n",
       "</table>\n",
       "</div>"
      ],
      "text/plain": [
       "             SNo StartupName       IndustryVertical SubVertical CityLocation  \\\n",
       "Date                                                                           \n",
       "2015-01-05  2080   Foodpanda   ONLINE FOOD DELIVERY         NaN      GURGAON   \n",
       "2015-01-05  2081   Termsheet  FUND RAISING PLATFORM         NaN      CHENNAI   \n",
       "\n",
       "                                                InvestorsName  InvestmentType  \\\n",
       "Date                                                                            \n",
       "2015-01-05                     Goldman Sachs, Rocket Internet  Private Equity   \n",
       "2015-01-05  Anand Vijay, Nipun Dureja, Satyajit Heeralal, ...    Seed Funding   \n",
       "\n",
       "            AmountInUSD   Remarks  day  month  year  \n",
       "Date                                                 \n",
       "2015-01-05    100000000  Series D    5      1  2015  \n",
       "2015-01-05       100000       NaN    5      1  2015  "
      ]
     },
     "execution_count": 324,
     "metadata": {},
     "output_type": "execute_result"
    }
   ],
   "source": [
    "startup_funding.head(2)"
   ]
  },
  {
   "cell_type": "code",
   "execution_count": 328,
   "metadata": {},
   "outputs": [],
   "source": [
    "\n",
    "startup_funding['StartupName'] = startup_funding['StartupName'].str.upper()\n",
    "startup_funding['StartupName'] = startup_funding['StartupName'].str.strip()\n",
    "# print(list(pd.unique(startup_funding['StartupName'])))\n",
    "startup_funding['StartupName'] = startup_funding['StartupName'].apply(lambda x:x.replace('PAYTM MARKETPLACE', 'PAYTM') if x == 'PAYTM MARKETPLACE' else x)\n",
    "startup_funding['StartupName'] = startup_funding['StartupName'].apply(lambda x:x.replace('FLIPKART.COM', 'FLIPKART') if x == 'FLIPKART.COM' else x)\n",
    "startup_funding['StartupName'] = startup_funding['StartupName'].apply(lambda x:x.replace('OYOROOMS', 'OYO') if x == 'OYOROOMS' else x)\n",
    "startup_funding['StartupName'] = startup_funding['StartupName'].apply(lambda x:x.replace('OYO ROOMS', 'OYO') if x == 'OYO ROOMS' else x)\n",
    "startup_funding['StartupName'] = startup_funding['StartupName'].apply(lambda x:x.replace('OYOFIT', 'OYO') if x == 'OYOFIT' else x)\n",
    "startup_funding['StartupName'] = startup_funding['StartupName'].apply(lambda x:x.replace('OLA CABS', 'OLA') if x == 'OLA CABS' else x)\n",
    "startup_funding['StartupName'] = startup_funding['StartupName'].apply(lambda x:x.replace('OLACABS', 'OLA') if x == 'OLACABS' else x)\n"
   ]
  },
  {
   "cell_type": "code",
   "execution_count": 333,
   "metadata": {},
   "outputs": [
    {
     "data": {
      "text/html": [
       "<div>\n",
       "<style scoped>\n",
       "    .dataframe tbody tr th:only-of-type {\n",
       "        vertical-align: middle;\n",
       "    }\n",
       "\n",
       "    .dataframe tbody tr th {\n",
       "        vertical-align: top;\n",
       "    }\n",
       "\n",
       "    .dataframe thead th {\n",
       "        text-align: right;\n",
       "    }\n",
       "</style>\n",
       "<table border=\"1\" class=\"dataframe\">\n",
       "  <thead>\n",
       "    <tr style=\"text-align: right;\">\n",
       "      <th></th>\n",
       "      <th>AmountInUSD</th>\n",
       "    </tr>\n",
       "    <tr>\n",
       "      <th>StartupName</th>\n",
       "      <th></th>\n",
       "    </tr>\n",
       "  </thead>\n",
       "  <tbody>\n",
       "    <tr>\n",
       "      <th>PAYTM</th>\n",
       "      <td>2342140000</td>\n",
       "    </tr>\n",
       "    <tr>\n",
       "      <th>FLIPKART</th>\n",
       "      <td>2259700000</td>\n",
       "    </tr>\n",
       "    <tr>\n",
       "      <th>OLA</th>\n",
       "      <td>1900570000</td>\n",
       "    </tr>\n",
       "    <tr>\n",
       "      <th>SNAPDEAL</th>\n",
       "      <td>700000000</td>\n",
       "    </tr>\n",
       "    <tr>\n",
       "      <th>OYO</th>\n",
       "      <td>638070000</td>\n",
       "    </tr>\n",
       "  </tbody>\n",
       "</table>\n",
       "</div>"
      ],
      "text/plain": [
       "             AmountInUSD\n",
       "StartupName             \n",
       "PAYTM         2342140000\n",
       "FLIPKART      2259700000\n",
       "OLA           1900570000\n",
       "SNAPDEAL       700000000\n",
       "OYO            638070000"
      ]
     },
     "execution_count": 333,
     "metadata": {},
     "output_type": "execute_result"
    }
   ],
   "source": [
    "funding = startup_funding.groupby('StartupName').sum()\n",
    "funding = funding.loc[:, funding.columns.intersection(['AmountInUSD'])]\n",
    "funding = funding.astype('Int64')\n",
    "funding = funding.sort_values(by='AmountInUSD', ascending=False)\n",
    "funding = funding.head()\n",
    "funding"
   ]
  },
  {
   "cell_type": "code",
   "execution_count": 335,
   "metadata": {},
   "outputs": [
    {
     "name": "stdout",
     "output_type": "stream",
     "text": [
      "PAYTM\n",
      "FLIPKART\n",
      "OLA\n",
      "SNAPDEAL\n",
      "OYO\n"
     ]
    }
   ],
   "source": [
    "for sn in funding.index:\n",
    "    print(sn)"
   ]
  },
  {
   "cell_type": "markdown",
   "metadata": {},
   "source": [
    "## Problem 7: Funding rounds"
   ]
  },
  {
   "cell_type": "markdown",
   "metadata": {},
   "source": [
    "### Find the top 5 startups who received the most number of funding rounds. That means, startups which got fundings maximum number of times."
   ]
  },
  {
   "cell_type": "code",
   "execution_count": 341,
   "metadata": {},
   "outputs": [
    {
     "data": {
      "text/html": [
       "<div>\n",
       "<style scoped>\n",
       "    .dataframe tbody tr th:only-of-type {\n",
       "        vertical-align: middle;\n",
       "    }\n",
       "\n",
       "    .dataframe tbody tr th {\n",
       "        vertical-align: top;\n",
       "    }\n",
       "\n",
       "    .dataframe thead th {\n",
       "        text-align: right;\n",
       "    }\n",
       "</style>\n",
       "<table border=\"1\" class=\"dataframe\">\n",
       "  <thead>\n",
       "    <tr style=\"text-align: right;\">\n",
       "      <th></th>\n",
       "      <th>Funding_Received_Count</th>\n",
       "    </tr>\n",
       "    <tr>\n",
       "      <th>StartupName</th>\n",
       "      <th></th>\n",
       "    </tr>\n",
       "  </thead>\n",
       "  <tbody>\n",
       "    <tr>\n",
       "      <th>OLA</th>\n",
       "      <td>9</td>\n",
       "    </tr>\n",
       "    <tr>\n",
       "      <th>SWIGGY</th>\n",
       "      <td>7</td>\n",
       "    </tr>\n",
       "    <tr>\n",
       "      <th>OYO</th>\n",
       "      <td>7</td>\n",
       "    </tr>\n",
       "    <tr>\n",
       "      <th>PAYTM</th>\n",
       "      <td>6</td>\n",
       "    </tr>\n",
       "    <tr>\n",
       "      <th>URBANCLAP</th>\n",
       "      <td>6</td>\n",
       "    </tr>\n",
       "  </tbody>\n",
       "</table>\n",
       "</div>"
      ],
      "text/plain": [
       "             Funding_Received_Count\n",
       "StartupName                        \n",
       "OLA                               9\n",
       "SWIGGY                            7\n",
       "OYO                               7\n",
       "PAYTM                             6\n",
       "URBANCLAP                         6"
      ]
     },
     "execution_count": 341,
     "metadata": {},
     "output_type": "execute_result"
    }
   ],
   "source": [
    "funding_time = startup_funding.groupby('StartupName').count()\n",
    "funding_time = funding_time.loc[:, funding.columns.intersection(['AmountInUSD'])]\n",
    "funding_time = funding_time.astype('Int64')\n",
    "funding_time = funding_time.sort_values(by='AmountInUSD', ascending=False)\n",
    "funding_time = funding_time.rename(columns={'AmountInUSD':'Funding_Received_Count'})\n",
    "funding_time = funding_time.head()\n",
    "funding_time"
   ]
  },
  {
   "cell_type": "markdown",
   "metadata": {},
   "source": [
    "## Problem 8 : Top Investor"
   ]
  },
  {
   "cell_type": "code",
   "execution_count": 342,
   "metadata": {},
   "outputs": [
    {
     "data": {
      "text/html": [
       "<div>\n",
       "<style scoped>\n",
       "    .dataframe tbody tr th:only-of-type {\n",
       "        vertical-align: middle;\n",
       "    }\n",
       "\n",
       "    .dataframe tbody tr th {\n",
       "        vertical-align: top;\n",
       "    }\n",
       "\n",
       "    .dataframe thead th {\n",
       "        text-align: right;\n",
       "    }\n",
       "</style>\n",
       "<table border=\"1\" class=\"dataframe\">\n",
       "  <thead>\n",
       "    <tr style=\"text-align: right;\">\n",
       "      <th></th>\n",
       "      <th>SNo</th>\n",
       "      <th>StartupName</th>\n",
       "      <th>IndustryVertical</th>\n",
       "      <th>SubVertical</th>\n",
       "      <th>CityLocation</th>\n",
       "      <th>InvestorsName</th>\n",
       "      <th>InvestmentType</th>\n",
       "      <th>AmountInUSD</th>\n",
       "      <th>Remarks</th>\n",
       "      <th>day</th>\n",
       "      <th>month</th>\n",
       "      <th>year</th>\n",
       "    </tr>\n",
       "    <tr>\n",
       "      <th>Date</th>\n",
       "      <th></th>\n",
       "      <th></th>\n",
       "      <th></th>\n",
       "      <th></th>\n",
       "      <th></th>\n",
       "      <th></th>\n",
       "      <th></th>\n",
       "      <th></th>\n",
       "      <th></th>\n",
       "      <th></th>\n",
       "      <th></th>\n",
       "      <th></th>\n",
       "    </tr>\n",
       "  </thead>\n",
       "  <tbody>\n",
       "    <tr>\n",
       "      <th>2015-01-05</th>\n",
       "      <td>2080</td>\n",
       "      <td>FOODPANDA</td>\n",
       "      <td>ONLINE FOOD DELIVERY</td>\n",
       "      <td>NaN</td>\n",
       "      <td>GURGAON</td>\n",
       "      <td>Goldman Sachs, Rocket Internet</td>\n",
       "      <td>Private Equity</td>\n",
       "      <td>100000000</td>\n",
       "      <td>Series D</td>\n",
       "      <td>5</td>\n",
       "      <td>1</td>\n",
       "      <td>2015</td>\n",
       "    </tr>\n",
       "    <tr>\n",
       "      <th>2015-01-05</th>\n",
       "      <td>2081</td>\n",
       "      <td>TERMSHEET</td>\n",
       "      <td>FUND RAISING PLATFORM</td>\n",
       "      <td>NaN</td>\n",
       "      <td>CHENNAI</td>\n",
       "      <td>Anand Vijay, Nipun Dureja, Satyajit Heeralal, ...</td>\n",
       "      <td>Seed Funding</td>\n",
       "      <td>100000</td>\n",
       "      <td>NaN</td>\n",
       "      <td>5</td>\n",
       "      <td>1</td>\n",
       "      <td>2015</td>\n",
       "    </tr>\n",
       "  </tbody>\n",
       "</table>\n",
       "</div>"
      ],
      "text/plain": [
       "             SNo StartupName       IndustryVertical SubVertical CityLocation  \\\n",
       "Date                                                                           \n",
       "2015-01-05  2080   FOODPANDA   ONLINE FOOD DELIVERY         NaN      GURGAON   \n",
       "2015-01-05  2081   TERMSHEET  FUND RAISING PLATFORM         NaN      CHENNAI   \n",
       "\n",
       "                                                InvestorsName  InvestmentType  \\\n",
       "Date                                                                            \n",
       "2015-01-05                     Goldman Sachs, Rocket Internet  Private Equity   \n",
       "2015-01-05  Anand Vijay, Nipun Dureja, Satyajit Heeralal, ...    Seed Funding   \n",
       "\n",
       "            AmountInUSD   Remarks  day  month  year  \n",
       "Date                                                 \n",
       "2015-01-05    100000000  Series D    5      1  2015  \n",
       "2015-01-05       100000       NaN    5      1  2015  "
      ]
     },
     "execution_count": 342,
     "metadata": {},
     "output_type": "execute_result"
    }
   ],
   "source": [
    "startup_funding.head(2)"
   ]
  },
  {
   "cell_type": "code",
   "execution_count": 343,
   "metadata": {},
   "outputs": [
    {
     "data": {
      "text/html": [
       "<div>\n",
       "<style scoped>\n",
       "    .dataframe tbody tr th:only-of-type {\n",
       "        vertical-align: middle;\n",
       "    }\n",
       "\n",
       "    .dataframe tbody tr th {\n",
       "        vertical-align: top;\n",
       "    }\n",
       "\n",
       "    .dataframe thead th {\n",
       "        text-align: right;\n",
       "    }\n",
       "</style>\n",
       "<table border=\"1\" class=\"dataframe\">\n",
       "  <thead>\n",
       "    <tr style=\"text-align: right;\">\n",
       "      <th></th>\n",
       "      <th>SNo</th>\n",
       "      <th>StartupName</th>\n",
       "      <th>IndustryVertical</th>\n",
       "      <th>SubVertical</th>\n",
       "      <th>CityLocation</th>\n",
       "      <th>InvestorsName</th>\n",
       "      <th>InvestmentType</th>\n",
       "      <th>AmountInUSD</th>\n",
       "      <th>Remarks</th>\n",
       "      <th>day</th>\n",
       "      <th>month</th>\n",
       "      <th>year</th>\n",
       "    </tr>\n",
       "    <tr>\n",
       "      <th>Date</th>\n",
       "      <th></th>\n",
       "      <th></th>\n",
       "      <th></th>\n",
       "      <th></th>\n",
       "      <th></th>\n",
       "      <th></th>\n",
       "      <th></th>\n",
       "      <th></th>\n",
       "      <th></th>\n",
       "      <th></th>\n",
       "      <th></th>\n",
       "      <th></th>\n",
       "    </tr>\n",
       "  </thead>\n",
       "  <tbody>\n",
       "    <tr>\n",
       "      <th>2015-01-05</th>\n",
       "      <td>2080</td>\n",
       "      <td>FOODPANDA</td>\n",
       "      <td>ONLINE FOOD DELIVERY</td>\n",
       "      <td>NaN</td>\n",
       "      <td>GURGAON</td>\n",
       "      <td>GOLDMAN SACHS</td>\n",
       "      <td>Private Equity</td>\n",
       "      <td>100000000</td>\n",
       "      <td>Series D</td>\n",
       "      <td>5</td>\n",
       "      <td>1</td>\n",
       "      <td>2015</td>\n",
       "    </tr>\n",
       "    <tr>\n",
       "      <th>2015-01-05</th>\n",
       "      <td>2080</td>\n",
       "      <td>FOODPANDA</td>\n",
       "      <td>ONLINE FOOD DELIVERY</td>\n",
       "      <td>NaN</td>\n",
       "      <td>GURGAON</td>\n",
       "      <td>ROCKET INTERNET</td>\n",
       "      <td>Private Equity</td>\n",
       "      <td>100000000</td>\n",
       "      <td>Series D</td>\n",
       "      <td>5</td>\n",
       "      <td>1</td>\n",
       "      <td>2015</td>\n",
       "    </tr>\n",
       "    <tr>\n",
       "      <th>2015-01-05</th>\n",
       "      <td>2081</td>\n",
       "      <td>TERMSHEET</td>\n",
       "      <td>FUND RAISING PLATFORM</td>\n",
       "      <td>NaN</td>\n",
       "      <td>CHENNAI</td>\n",
       "      <td>ANAND VIJAY</td>\n",
       "      <td>Seed Funding</td>\n",
       "      <td>100000</td>\n",
       "      <td>NaN</td>\n",
       "      <td>5</td>\n",
       "      <td>1</td>\n",
       "      <td>2015</td>\n",
       "    </tr>\n",
       "    <tr>\n",
       "      <th>2015-01-05</th>\n",
       "      <td>2081</td>\n",
       "      <td>TERMSHEET</td>\n",
       "      <td>FUND RAISING PLATFORM</td>\n",
       "      <td>NaN</td>\n",
       "      <td>CHENNAI</td>\n",
       "      <td>NIPUN DUREJA</td>\n",
       "      <td>Seed Funding</td>\n",
       "      <td>100000</td>\n",
       "      <td>NaN</td>\n",
       "      <td>5</td>\n",
       "      <td>1</td>\n",
       "      <td>2015</td>\n",
       "    </tr>\n",
       "    <tr>\n",
       "      <th>2015-01-05</th>\n",
       "      <td>2081</td>\n",
       "      <td>TERMSHEET</td>\n",
       "      <td>FUND RAISING PLATFORM</td>\n",
       "      <td>NaN</td>\n",
       "      <td>CHENNAI</td>\n",
       "      <td>SATYAJIT HEERALAL</td>\n",
       "      <td>Seed Funding</td>\n",
       "      <td>100000</td>\n",
       "      <td>NaN</td>\n",
       "      <td>5</td>\n",
       "      <td>1</td>\n",
       "      <td>2015</td>\n",
       "    </tr>\n",
       "  </tbody>\n",
       "</table>\n",
       "</div>"
      ],
      "text/plain": [
       "             SNo StartupName       IndustryVertical SubVertical CityLocation  \\\n",
       "Date                                                                           \n",
       "2015-01-05  2080   FOODPANDA   ONLINE FOOD DELIVERY         NaN      GURGAON   \n",
       "2015-01-05  2080   FOODPANDA   ONLINE FOOD DELIVERY         NaN      GURGAON   \n",
       "2015-01-05  2081   TERMSHEET  FUND RAISING PLATFORM         NaN      CHENNAI   \n",
       "2015-01-05  2081   TERMSHEET  FUND RAISING PLATFORM         NaN      CHENNAI   \n",
       "2015-01-05  2081   TERMSHEET  FUND RAISING PLATFORM         NaN      CHENNAI   \n",
       "\n",
       "                InvestorsName  InvestmentType  AmountInUSD   Remarks  day  \\\n",
       "Date                                                                        \n",
       "2015-01-05      GOLDMAN SACHS  Private Equity    100000000  Series D    5   \n",
       "2015-01-05    ROCKET INTERNET  Private Equity    100000000  Series D    5   \n",
       "2015-01-05        ANAND VIJAY    Seed Funding       100000       NaN    5   \n",
       "2015-01-05       NIPUN DUREJA    Seed Funding       100000       NaN    5   \n",
       "2015-01-05  SATYAJIT HEERALAL    Seed Funding       100000       NaN    5   \n",
       "\n",
       "            month  year  \n",
       "Date                     \n",
       "2015-01-05      1  2015  \n",
       "2015-01-05      1  2015  \n",
       "2015-01-05      1  2015  \n",
       "2015-01-05      1  2015  \n",
       "2015-01-05      1  2015  "
      ]
     },
     "execution_count": 343,
     "metadata": {},
     "output_type": "execute_result"
    }
   ],
   "source": [
    "startup_funding['InvestorsName'] = startup_funding['InvestorsName'].str.strip()\n",
    "startup_funding['InvestorsName'] = startup_funding['InvestorsName'].str.upper()\n",
    "startup_funding = startup_funding.assign(InvestorsName=startup_funding['InvestorsName'].str.split(',')).explode('InvestorsName')\n",
    "startup_funding['InvestorsName'] = startup_funding['InvestorsName'].str.strip()\n",
    "startup_funding.head()"
   ]
  },
  {
   "cell_type": "markdown",
   "metadata": {},
   "source": [
    "### Find the Investors who have invested maximum number of times."
   ]
  },
  {
   "cell_type": "code",
   "execution_count": 346,
   "metadata": {},
   "outputs": [
    {
     "data": {
      "text/html": [
       "<div>\n",
       "<style scoped>\n",
       "    .dataframe tbody tr th:only-of-type {\n",
       "        vertical-align: middle;\n",
       "    }\n",
       "\n",
       "    .dataframe tbody tr th {\n",
       "        vertical-align: top;\n",
       "    }\n",
       "\n",
       "    .dataframe thead th {\n",
       "        text-align: right;\n",
       "    }\n",
       "</style>\n",
       "<table border=\"1\" class=\"dataframe\">\n",
       "  <thead>\n",
       "    <tr style=\"text-align: right;\">\n",
       "      <th></th>\n",
       "      <th>StartupName</th>\n",
       "    </tr>\n",
       "    <tr>\n",
       "      <th>InvestorsName</th>\n",
       "      <th></th>\n",
       "    </tr>\n",
       "  </thead>\n",
       "  <tbody>\n",
       "    <tr>\n",
       "      <th>UNDISCLOSED INVESTORS</th>\n",
       "      <td>73</td>\n",
       "    </tr>\n",
       "    <tr>\n",
       "      <th>SEQUOIA CAPITAL</th>\n",
       "      <td>64</td>\n",
       "    </tr>\n",
       "    <tr>\n",
       "      <th>ACCEL PARTNERS</th>\n",
       "      <td>53</td>\n",
       "    </tr>\n",
       "    <tr>\n",
       "      <th>KALAARI CAPITAL</th>\n",
       "      <td>44</td>\n",
       "    </tr>\n",
       "    <tr>\n",
       "      <th>SAIF PARTNERS</th>\n",
       "      <td>43</td>\n",
       "    </tr>\n",
       "  </tbody>\n",
       "</table>\n",
       "</div>"
      ],
      "text/plain": [
       "                       StartupName\n",
       "InvestorsName                     \n",
       "UNDISCLOSED INVESTORS           73\n",
       "SEQUOIA CAPITAL                 64\n",
       "ACCEL PARTNERS                  53\n",
       "KALAARI CAPITAL                 44\n",
       "SAIF PARTNERS                   43"
      ]
     },
     "execution_count": 346,
     "metadata": {},
     "output_type": "execute_result"
    }
   ],
   "source": [
    "investors = startup_funding.groupby('InvestorsName').count()\n",
    "investors = investors.loc[:, investors.columns.intersection(['StartupName'])]\n",
    "investors = investors.sort_values(by='StartupName', ascending=False)\n",
    "investors.head()"
   ]
  }
 ],
 "metadata": {
  "kernelspec": {
   "display_name": "Python 3",
   "language": "python",
   "name": "python3"
  },
  "language_info": {
   "codemirror_mode": {
    "name": "ipython",
    "version": 3
   },
   "file_extension": ".py",
   "mimetype": "text/x-python",
   "name": "python",
   "nbconvert_exporter": "python",
   "pygments_lexer": "ipython3",
   "version": "3.7.3"
  }
 },
 "nbformat": 4,
 "nbformat_minor": 2
}
